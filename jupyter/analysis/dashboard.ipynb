{
 "cells": [
  {
   "cell_type": "markdown",
   "id": "cb40c309",
   "metadata": {},
   "source": [
    "# COVID-19 Dashboard"
   ]
  },
  {
   "cell_type": "markdown",
   "id": "8b7326a7",
   "metadata": {},
   "source": [
    "This notebook uses Göttingen Campus COVID-19 publication data to build a simple dashboard.\n",
    "\n",
    "Author: Andreas Lüschow\n",
    "\n",
    "2021/07/09"
   ]
  },
  {
   "cell_type": "markdown",
   "id": "5f7bb2d8",
   "metadata": {},
   "source": [
    "-----"
   ]
  },
  {
   "cell_type": "markdown",
   "id": "d261d88b",
   "metadata": {},
   "source": [
    "## Imports"
   ]
  },
  {
   "cell_type": "code",
   "execution_count": 1,
   "id": "ffcdfb15",
   "metadata": {},
   "outputs": [
    {
     "name": "stdout",
     "output_type": "stream",
     "text": [
      "env: GOOGLE_APPLICATION_CREDENTIALS=../../../bigquery_credentials.json\n"
     ]
    }
   ],
   "source": [
    "# run imports\n",
    "%run ../imports.ipynb\n",
    "\n",
    "# import constants from constants notebook\n",
    "%run ../constants.ipynb\n",
    "\n",
    "# import methods from utils notebook\n",
    "%run ../utils.ipynb"
   ]
  },
  {
   "cell_type": "markdown",
   "id": "efc824e7",
   "metadata": {},
   "source": [
    "## Custom Imports"
   ]
  },
  {
   "cell_type": "code",
   "execution_count": 2,
   "id": "4519a2e3",
   "metadata": {},
   "outputs": [],
   "source": [
    "import dash\n",
    "import dash_core_components as dcc\n",
    "import dash_html_components as html\n",
    "import numpy as np\n",
    "\n",
    "from dash.dependencies import Output, Input\n",
    "from jupyter_dash import JupyterDash"
   ]
  },
  {
   "cell_type": "code",
   "execution_count": 3,
   "id": "d5743859",
   "metadata": {},
   "outputs": [],
   "source": [
    "# run the following line when on Binder\n",
    "# JupyterDash.infer_jupyter_proxy_config()"
   ]
  },
  {
   "cell_type": "markdown",
   "id": "6779edf5",
   "metadata": {},
   "source": [
    "-----"
   ]
  },
  {
   "cell_type": "markdown",
   "id": "5e5922c2",
   "metadata": {},
   "source": [
    "## Load data"
   ]
  },
  {
   "cell_type": "code",
   "execution_count": 4,
   "id": "1911c463",
   "metadata": {},
   "outputs": [],
   "source": [
    "# data for line plot\n",
    "df = load(f\"{TABLE_FOLDER}{table_name(GOE_COVID)}.csv\")\n",
    "df[\"date\"] = pd.to_datetime(df[\"date\"]).dt.strftime('%Y-%m')\n",
    "df = df.groupby(['date', \"type\"], as_index=False).size()\n",
    "\n",
    "# data for treemap\n",
    "df_treemap_orig = load(f\"{TABLE_FOLDER}{table_name(GOE_CATEGORIES_FOR)}.csv\")\n",
    "df_covid = load(f\"{TABLE_FOLDER}{table_name(GOE_COVID)}.csv\")\n",
    "df_covid[\"date\"] = pd.to_datetime(df_covid[\"date\"]).dt.strftime('%Y-%m')\n",
    "df_covid = df_covid.groupby([\"id\", \"title\", 'date', \"type\"], as_index=False).size()"
   ]
  },
  {
   "cell_type": "markdown",
   "id": "5db3daae",
   "metadata": {},
   "source": [
    "## Start Dash"
   ]
  },
  {
   "cell_type": "code",
   "execution_count": 5,
   "id": "02c067c0",
   "metadata": {},
   "outputs": [],
   "source": [
    "external_stylesheets = [\n",
    "    {\"href\": \"style.css\", \"rel\": \"stylesheet\"},\n",
    "]\n",
    "\n",
    "app = JupyterDash(__name__, external_stylesheets=external_stylesheets)\n",
    "app.title = \"Göttingen Campus COVID-19 Publications\""
   ]
  },
  {
   "cell_type": "code",
   "execution_count": 6,
   "id": "71fc3bc0",
   "metadata": {},
   "outputs": [],
   "source": [
    "# HTML layout\n",
    "app.layout = html.Div(\n",
    "    children=[\n",
    "        html.Div(\n",
    "            children=[\n",
    "                html.H1(children=\"Göttingen Campus COVID-19 Publications\", className=\"header-title\"),\n",
    "                html.P(\n",
    "                    children=\"Analysis of COVID-19 publications from the Göttingen Campus\",\n",
    "                    className=\"header-description\"\n",
    "                ),\n",
    "            ],\n",
    "            className=\"header\"\n",
    "        ),\n",
    "        html.Div(\n",
    "            children=[\n",
    "                html.Div(\n",
    "                    children=[\n",
    "                        html.Div(children=\"Type of Publication\", className=\"menu-title\"),\n",
    "                        dcc.Dropdown(\n",
    "                            id=\"type-filter\",\n",
    "                            options=[\n",
    "                                {\"label\": type, \"value\": type}\n",
    "                                for type in np.sort(df.type.unique())\n",
    "                            ],\n",
    "                            multi=True,\n",
    "                            clearable=True,\n",
    "                            className=\"dropdown\",\n",
    "                        ),\n",
    "                    ],\n",
    "                ),\n",
    "                html.Div(\n",
    "                    children=[\n",
    "                        html.Div(\n",
    "                            children=\"Date Range (MM/DD/YYYY)\",\n",
    "                            className=\"menu-title\"\n",
    "                            ),\n",
    "                        dcc.DatePickerRange(\n",
    "                            id=\"date-range\",\n",
    "                            min_date_allowed=df.date.min(),\n",
    "                            max_date_allowed=df.date.max(),\n",
    "                            start_date=df.date.min(),\n",
    "                            end_date=df.date.max(),\n",
    "                        ),\n",
    "                    ]\n",
    "                ),\n",
    "            ],\n",
    "            className=\"menu\",\n",
    "        ),\n",
    "        html.Div(\n",
    "            children=[\n",
    "                html.Div(\n",
    "                    children=dcc.Graph(\n",
    "                        id=\"size-chart\",\n",
    "                        config={\"displayModeBar\": False},\n",
    "                    ),\n",
    "                    className=\"card\",\n",
    "                ),\n",
    "                html.Div(\n",
    "                    children=dcc.Graph(\n",
    "                        id=\"treemap-chart\",\n",
    "                        config={\"displayModeBar\": False},\n",
    "                    ),\n",
    "                    className=\"card\",\n",
    "                ),\n",
    "            ],\n",
    "            className=\"wrapper\",\n",
    "        ),\n",
    "    ]\n",
    ")"
   ]
  },
  {
   "cell_type": "code",
   "execution_count": 7,
   "id": "6e847ff2",
   "metadata": {},
   "outputs": [],
   "source": [
    "# callback functions\n",
    "@app.callback(\n",
    "    [Output(\"size-chart\", \"figure\"), Output(\"treemap-chart\", \"figure\")],\n",
    "    [\n",
    "        Input(\"type-filter\", \"value\"),\n",
    "        Input(\"date-range\", \"start_date\"),\n",
    "        Input(\"date-range\", \"end_date\"),\n",
    "    ],\n",
    ")\n",
    "def update_charts(type, start_date, end_date):\n",
    "    if not type:\n",
    "        # consider all facets\n",
    "        type = list(df['type'].unique())\n",
    "    if not isinstance(type, list):\n",
    "        type = list(type)\n",
    "\n",
    "    # line plot\n",
    "    mask = (\n",
    "        (df.type.isin(type))\n",
    "        & (df.date >= start_date)\n",
    "        & (df.date <= end_date)\n",
    "    )\n",
    "    filtered_data = df.loc[mask, :]\n",
    "    filtered_data.drop([\"type\"], axis=1, inplace=True)\n",
    "    filtered_data = filtered_data.groupby([\"date\"])[\"size\"].sum().reset_index()\n",
    "    filtered_data = filtered_data.drop_duplicates()\n",
    "\n",
    "    size_chart_figure = {\n",
    "        \"data\": [\n",
    "            {\n",
    "                \"x\": filtered_data[\"date\"],\n",
    "                \"y\": filtered_data[\"size\"],\n",
    "                \"type\": \"lines\",\n",
    "            },\n",
    "        ],\n",
    "        \"layout\": {\n",
    "            \"title\": {\n",
    "                # \"text\": \"Publications per Month\",\n",
    "                \"x\": 0.05,\n",
    "                \"xanchor\": \"left\",\n",
    "            },\n",
    "            \"xaxis\": {\"fixedrange\": True},\n",
    "            \"yaxis\": {\"fixedrange\": True},\n",
    "            \"colorway\": [\"#17B897\"],\n",
    "        },\n",
    "    }\n",
    "\n",
    "    # treemap\n",
    "    df_treemap = pd.merge(\n",
    "        df_covid[[\"id\", \"title\", \"date\", \"type\", \"size\"]],\n",
    "        df_treemap_orig[[\"id\", \"for_v1_first_level\", \"for_v1_second_level\"]],\n",
    "        on=['id']\n",
    "    )\n",
    "\n",
    "    # add link to publication\n",
    "    link_ref = '<a href=\"https://app.dimensions.ai/details/publication/{id}\" target=\"_blank\">{title}</a>'\n",
    "    df_treemap['item_link'] = df_treemap.apply(\n",
    "        lambda item: link_ref.format(id=item[\"id\"], title=item[\"title\"]), axis=1\n",
    "    )\n",
    "\n",
    "    mask = (\n",
    "            (df_treemap.type.isin(type))\n",
    "            & (df_treemap.date >= start_date)\n",
    "            & (df_treemap.date <= end_date)\n",
    "    )\n",
    "    filtered_data = df_treemap.loc[mask, :]\n",
    "    filtered_data.drop([\"type\"], axis=1, inplace=True)\n",
    "    filtered_data.dropna(subset=[\"for_v1_second_level\", \"for_v1_first_level\", \"item_link\"], inplace=True)\n",
    "    filtered_data = filtered_data.drop_duplicates()\n",
    "\n",
    "    fig = px.treemap(filtered_data,\n",
    "                     path=[px.Constant(\"All categories\"), \"for_v1_first_level\", \"for_v1_second_level\", \"item_link\"],\n",
    "                     color=\"for_v1_first_level\",\n",
    "                     color_discrete_sequence=px.colors.qualitative.Pastel2,\n",
    "                     color_discrete_map={\n",
    "                         \"(?)\": \"lightgrey\"\n",
    "                     }\n",
    "                     )\n",
    "\n",
    "    fig.update_traces(hoverinfo='skip', hovertemplate=None)\n",
    "\n",
    "    return size_chart_figure, fig"
   ]
  },
  {
   "cell_type": "markdown",
   "id": "bbbc8f47",
   "metadata": {},
   "source": [
    "## Run dashboard"
   ]
  },
  {
   "cell_type": "code",
   "execution_count": 8,
   "id": "e726f022",
   "metadata": {},
   "outputs": [
    {
     "data": {
      "text/html": [
       "\n",
       "        <iframe\n",
       "            width=\"100%\"\n",
       "            height=\"650\"\n",
       "            src=\"http://127.0.0.1:8050/\"\n",
       "            frameborder=\"0\"\n",
       "            allowfullscreen\n",
       "        ></iframe>\n",
       "        "
      ],
      "text/plain": [
       "<IPython.lib.display.IFrame at 0x7ff1fc59b880>"
      ]
     },
     "metadata": {},
     "output_type": "display_data"
    }
   ],
   "source": [
    "# run dashboard inside Jupyter notebook\n",
    "app.run_server(mode=\"inline\")\n",
    "\n",
    "# run dashboard in Browser\n",
    "# app.run_server()"
   ]
  }
 ],
 "metadata": {
  "kernelspec": {
   "display_name": "Python 3",
   "language": "python",
   "name": "python3"
  },
  "language_info": {
   "codemirror_mode": {
    "name": "ipython",
    "version": 3
   },
   "file_extension": ".py",
   "mimetype": "text/x-python",
   "name": "python",
   "nbconvert_exporter": "python",
   "pygments_lexer": "ipython3",
   "version": "3.8.10"
  }
 },
 "nbformat": 4,
 "nbformat_minor": 5
}
