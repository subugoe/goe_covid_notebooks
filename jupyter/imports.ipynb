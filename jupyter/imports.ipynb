{
 "cells": [
  {
   "cell_type": "markdown",
   "id": "8aa55ea2",
   "metadata": {},
   "source": [
    "# Imports"
   ]
  },
  {
   "cell_type": "markdown",
   "id": "5d7231cd",
   "metadata": {},
   "source": [
    "This notebook provides the import statements for packages used in the other notebooks.\n",
    "\n",
    "Author: Andreas Lüschow\n",
    "\n",
    "2021/07/08"
   ]
  },
  {
   "cell_type": "code",
   "execution_count": null,
   "id": "911b9f54",
   "metadata": {},
   "outputs": [],
   "source": [
    "from collections import Counter\n",
    "\n",
    "import kaleido\n",
    "import pandas as pd\n",
    "import plotly.express as px\n",
    "\n",
    "from google.cloud import bigquery\n",
    "from matplotlib import pyplot as plt\n",
    "%matplotlib inline"
   ]
  }
 ],
 "metadata": {
  "kernelspec": {
   "display_name": "Python 3",
   "language": "python",
   "name": "python3"
  },
  "language_info": {
   "codemirror_mode": {
    "name": "ipython",
    "version": 3
   },
   "file_extension": ".py",
   "mimetype": "text/x-python",
   "name": "python",
   "nbconvert_exporter": "python",
   "pygments_lexer": "ipython3",
   "version": "3.8.10"
  }
 },
 "nbformat": 4,
 "nbformat_minor": 5
}
