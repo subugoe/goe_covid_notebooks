{
 "cells": [
  {
   "cell_type": "markdown",
   "id": "58e26604",
   "metadata": {},
   "source": [
    "# Utils"
   ]
  },
  {
   "cell_type": "markdown",
   "id": "e019a7db",
   "metadata": {},
   "source": [
    "This notebook provides generic methods to be used throughout other notebooks.\n",
    "\n",
    "Author: Andreas Lüschow\n",
    "\n",
    "2021/07/08"
   ]
  },
  {
   "cell_type": "markdown",
   "id": "f118b843",
   "metadata": {},
   "source": [
    "-----"
   ]
  },
  {
   "cell_type": "markdown",
   "id": "d8242589",
   "metadata": {},
   "source": [
    "## General"
   ]
  },
  {
   "cell_type": "code",
   "execution_count": null,
   "id": "6bc051a9",
   "metadata": {},
   "outputs": [],
   "source": [
    "def save(df, path):\n",
    "    \"\"\"Save a given `df` to the file specified in `path`.\"\"\"\n",
    "    with open(path, \"w\", encoding=FILE_ENCODING) as f:\n",
    "        df.to_csv(f, sep=CSV_SEPARATOR)\n",
    "        \n",
    "def load(path):\n",
    "    \"\"\"Load a DataFrame from `path`.\"\"\"\n",
    "    with open(path, \"r\", encoding=FILE_ENCODING) as f:\n",
    "        df = pd.read_csv(f, index_col=0, sep=CSV_SEPARATOR)\n",
    "    return df        \n",
    "\n",
    "def table_name(s, full_name=False):\n",
    "    \"\"\"Get the name of a table.\"\"\"\n",
    "    if full_name:\n",
    "        return s.replace(\"`\", \"\")\n",
    "    else:\n",
    "        return s.split(\".\")[-1].replace(\"`\", \"\")"
   ]
  },
  {
   "cell_type": "markdown",
   "id": "4ac2765a",
   "metadata": {},
   "source": [
    "## Google BigQuery"
   ]
  },
  {
   "cell_type": "code",
   "execution_count": null,
   "id": "aabd0da4",
   "metadata": {},
   "outputs": [],
   "source": [
    "def get_bq_client():\n",
    "    \"\"\"Return the client for a BigQuery project.\"\"\"\n",
    "    return bigquery.Client(project=BIGQUERY_PROJECT_NAME)\n",
    "\n",
    "def bqcreate(sql, table):\n",
    "    \"\"\"Create or replace table `table` in Google BigQuery using `sql` statement.\"\"\"\n",
    "    return f\"CREATE OR REPLACE TABLE {table} AS ({sql})\"\n",
    "\n",
    "def bqupload(client, df, table):\n",
    "    \"\"\"Upload DataFrame `df` to BigQuery table named `table` using client `client`.\"\"\"\n",
    "    job_config = bigquery.LoadJobConfig(\n",
    "        write_disposition=\"WRITE_TRUNCATE\"\n",
    "    )\n",
    "\n",
    "    job = client.load_table_from_dataframe(\n",
    "        df, table_name(table, True), job_config=job_config\n",
    "    )\n",
    "    return job.result()"
   ]
  },
  {
   "cell_type": "markdown",
   "id": "18045959",
   "metadata": {},
   "source": [
    "## Other"
   ]
  },
  {
   "cell_type": "code",
   "execution_count": null,
   "id": "a1984a04",
   "metadata": {},
   "outputs": [],
   "source": [
    "def save_grid_ids(l):\n",
    "    \"\"\"Save list of GRID IDs `l` to a file.\"\"\"\n",
    "    with open(GOE_CAMPUS_GRID_IDS_FILE, \"w\", encoding=FILE_ENCODING) as f:\n",
    "        for i in l:\n",
    "            f.write(i + LINE_TERMINATOR)"
   ]
  }
 ],
 "metadata": {
  "kernelspec": {
   "display_name": "Python 3",
   "language": "python",
   "name": "python3"
  },
  "language_info": {
   "codemirror_mode": {
    "name": "ipython",
    "version": 3
   },
   "file_extension": ".py",
   "mimetype": "text/x-python",
   "name": "python",
   "nbconvert_exporter": "python",
   "pygments_lexer": "ipython3",
   "version": "3.8.10"
  }
 },
 "nbformat": 4,
 "nbformat_minor": 5
}
