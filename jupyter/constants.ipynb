{
 "cells": [
  {
   "cell_type": "markdown",
   "id": "405fd6a1",
   "metadata": {},
   "source": [
    "# Constants"
   ]
  },
  {
   "cell_type": "markdown",
   "id": "ff8d373f",
   "metadata": {},
   "source": [
    "This notebook allows for the definition of constants that can be imported in other notebooks to reduce boilerplate code.\n",
    "\n",
    "Code in this notebook does not need to be execuded on its own. It will be executed when imported from within another notebook instead. All constants are then available inside that notebook.\n",
    "\n",
    "Author: Andreas Lüschow\n",
    "\n",
    "2021/07/08"
   ]
  },
  {
   "cell_type": "markdown",
   "id": "28af5644",
   "metadata": {},
   "source": [
    "## General"
   ]
  },
  {
   "cell_type": "code",
   "execution_count": null,
   "id": "75129f3c",
   "metadata": {},
   "outputs": [],
   "source": [
    "# usually no need to change these\n",
    "\n",
    "# file encoding etc.\n",
    "FILE_ENCODING = \"utf-8\"\n",
    "CSV_SEPARATOR = \"\\t\"\n",
    "LINE_TERMINATOR = \"\\n\"\n",
    "\n",
    "# directory paths (mind the trailing slash!)\n",
    "OUTPUT_FOLDER = \"../../output/\"  \n",
    "IMG_FOLDER = \"../../output/img/\"\n",
    "TABLE_FOLDER = \"../../output/tables/\"\n",
    "\n",
    "# file names\n",
    "GOE_CAMPUS_GRID_IDS_FILE = \"../../output/goe_campus_grid_ids.txt\""
   ]
  },
  {
   "cell_type": "code",
   "execution_count": null,
   "id": "d1cdf1bf",
   "metadata": {},
   "outputs": [],
   "source": [
    "# GRID IDs from Göttingen campus generated using the notebook 'goettingen_campus_institutions'\n",
    "try:\n",
    "    with open(GOE_CAMPUS_GRID_IDS_FILE, \"r\", encoding=FILE_ENCODING) as f:\n",
    "        GOE_CAMPUS_IDS = tuple(f.read().splitlines())\n",
    "    f\"Göttingen Campus GRID IDs: {GOE_CAMPUS_IDS}\"\n",
    "except FileNotFoundError as e:\n",
    "    print(f\"\"\"\n",
    "    {e}\n",
    "    Consider creating a file with GRID IDs from the Göttingen Campus using the Jupyter notebook './jupyter/data/goettingen_campus_institutions' first!\n",
    "    (You may ignore this error if you do not need to import GRID IDs inside the current notebook.)\n",
    "    \"\"\")\n",
    "    "
   ]
  },
  {
   "cell_type": "markdown",
   "id": "91cdab7b",
   "metadata": {},
   "source": [
    "## Google BigQuery"
   ]
  },
  {
   "cell_type": "code",
   "execution_count": null,
   "id": "a0ce6491",
   "metadata": {},
   "outputs": [],
   "source": [
    "# set environment variable with Google BigQuery credentials\n",
    "%env GOOGLE_APPLICATION_CREDENTIALS=../../../bigquery_credentials.json\n",
    "\n",
    "# set file that contains the Google BigQuery project name\n",
    "BIGQUERY_PROJECT_NAME_FILE = \"../../../bigquery_project_name.txt\"\n",
    "\n",
    "# load project name from external file\n",
    "with open(BIGQUERY_PROJECT_NAME_FILE, \"r\", encoding=FILE_ENCODING) as f:\n",
    "    PROJECT_DATABASE = str(f.read().strip())\n",
    "    BIGQUERY_PROJECT_NAME = PROJECT_DATABASE.split(\".\")[0]\n",
    "    \n",
    "f\"Project data base: {PROJECT_DATABASE}\""
   ]
  },
  {
   "cell_type": "markdown",
   "id": "04c69f60",
   "metadata": {},
   "source": [
    "## Google BigQuery Tables"
   ]
  },
  {
   "cell_type": "code",
   "execution_count": null,
   "id": "5d1e3b81",
   "metadata": {},
   "outputs": [],
   "source": [
    "# Dimensions tables\n",
    "DIMENSIONS_PREFIX = \"covid-19-dimensions-ai.data\"\n",
    "DS_FULL = f\"`{DIMENSIONS_PREFIX}`\"\n",
    "DS_PUBLICATIONS = f\"`{DIMENSIONS_PREFIX}.publications`\"\n",
    "DS_GRID = f\"`{DIMENSIONS_PREFIX}.grid`\"\n",
    "\n",
    "# custom tables\n",
    "GOE_COVID = f\"`{PROJECT_DATABASE}.ds_goe_covid`\"\n",
    "GOE_AUTHORS = f\"`{PROJECT_DATABASE}.ds_goe_authors`\"\n",
    "GOE_AUTHORS_FULL_NAMES = f\"`{PROJECT_DATABASE}.ds_goe_authors_full_names`\"\n",
    "GOE_AUTHORS_LOCATION = f\"`{PROJECT_DATABASE}.ds_goe_authors_location`\"\n",
    "GOE_AUTHORS_AFFILIATION = f\"`{PROJECT_DATABASE}.ds_goe_authors_affiliation`\"\n",
    "GOE_AUTHORS_MAIN_AFFILIATION = f\"`{PROJECT_DATABASE}.ds_goe_authors_main_affiliation`\"\n",
    "GOE_AUTHORS_COOPERATION = f\"`{PROJECT_DATABASE}.ds_goe_authors_cooperation`\"\n",
    "GOE_COOPERATIONS = f\"`{PROJECT_DATABASE}.ds_goe_cooperations`\"\n",
    "GOE_CATEGORY_COUNT = f\"`{PROJECT_DATABASE}.ds_goe_category_count`\"\n",
    "GOE_CATEGORIES = f\"`{PROJECT_DATABASE}.ds_goe_categories`\"\n",
    "GOE_CATEGORIES_PUBLICATIONS = f\"`{PROJECT_DATABASE}.ds_goe_categories_publications`\"\n",
    "GOE_CATEGORIES_AFFILIATIONS = f\"`{PROJECT_DATABASE}.ds_goe_categories_affiliations`\"\n",
    "GOE_CATEGORIES_AFFILIATIONS_COUNT = f\"`{PROJECT_DATABASE}.ds_goe_categories_affiliations_count`\""
   ]
  }
 ],
 "metadata": {
  "kernelspec": {
   "display_name": "Python 3",
   "language": "python",
   "name": "python3"
  },
  "language_info": {
   "codemirror_mode": {
    "name": "ipython",
    "version": 3
   },
   "file_extension": ".py",
   "mimetype": "text/x-python",
   "name": "python",
   "nbconvert_exporter": "python",
   "pygments_lexer": "ipython3",
   "version": "3.8.10"
  }
 },
 "nbformat": 4,
 "nbformat_minor": 5
}
