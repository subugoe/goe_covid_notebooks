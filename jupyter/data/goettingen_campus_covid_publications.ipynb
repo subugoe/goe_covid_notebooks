{
 "cells": [
  {
   "cell_type": "markdown",
   "metadata": {},
   "source": [
    "# Göttingen Campus Covid Publications "
   ]
  },
  {
   "cell_type": "markdown",
   "metadata": {},
   "source": [
    "This notebook creates, transforms and saves tables of COVID-19 publication data for researchers from the Göttingen Campus using Google BigQuery and the Dimensions COVID-19 data base.\n",
    "\n",
    "Author: Andreas Lüschow\n",
    "\n",
    "2021/07/08"
   ]
  },
  {
   "cell_type": "markdown",
   "metadata": {},
   "source": [
    "-----"
   ]
  },
  {
   "cell_type": "markdown",
   "metadata": {},
   "source": [
    "## Imports"
   ]
  },
  {
   "cell_type": "code",
   "execution_count": 1,
   "metadata": {},
   "outputs": [
    {
     "name": "stdout",
     "output_type": "stream",
     "text": [
      "env: GOOGLE_APPLICATION_CREDENTIALS=../../../bigquery_credentials.json\n"
     ]
    }
   ],
   "source": [
    "# run imports\n",
    "%run ../imports.ipynb\n",
    "\n",
    "# import constants from constants notebook\n",
    "%run ../constants.ipynb\n",
    "\n",
    "# import methods from utils notebook\n",
    "%run ../utils.ipynb"
   ]
  },
  {
   "cell_type": "markdown",
   "metadata": {},
   "source": [
    "## Setting up the Google BigQuery Client"
   ]
  },
  {
   "cell_type": "code",
   "execution_count": 2,
   "metadata": {},
   "outputs": [],
   "source": [
    "client = get_bq_client()"
   ]
  },
  {
   "cell_type": "markdown",
   "metadata": {},
   "source": [
    "-----"
   ]
  },
  {
   "cell_type": "markdown",
   "metadata": {},
   "source": [
    "# Part 1: Create basic tables"
   ]
  },
  {
   "cell_type": "markdown",
   "metadata": {},
   "source": [
    "## Create table with information about Göttingen Covid publications"
   ]
  },
  {
   "cell_type": "markdown",
   "metadata": {},
   "source": [
    "Table: __GOE_COVID__\n",
    "\n",
    "- SQL statement selects relevant fields from the Dimensions table of COVID-19 publications\n",
    "- Both `authors` and `authors.grid_ids` fields need to be unnested in order to filter only those `grid_ids` belonging to institutions from the Göttingen Campus"
   ]
  },
  {
   "cell_type": "code",
   "execution_count": 3,
   "metadata": {},
   "outputs": [
    {
     "data": {
      "text/plain": [
       "<google.cloud.bigquery.job.query.QueryJob at 0x7fbd63484190>"
      ]
     },
     "execution_count": 3,
     "metadata": {},
     "output_type": "execute_result"
    }
   ],
   "source": [
    "sql = f\"\"\"\n",
    "SELECT\n",
    "    id,\n",
    "    doi,\n",
    "    title.preferred as title,\n",
    "    year,\n",
    "    journal.title as journal,\n",
    "    publisher.name as publisher,\n",
    "    resulting_publication_doi,\n",
    "    pmid,\n",
    "    pmcid,\n",
    "    type,\n",
    "    date,\n",
    "    date_online,\n",
    "    date_print,\n",
    "    ANY_VALUE(open_access_categories_v2) AS open_access_categories_v2,\n",
    "    ANY_VALUE(categories) AS categories,\n",
    "    metrics.field_citation_ratio as field_citation_ratio,\n",
    "    metrics.times_cited as times_cited,\n",
    "    metrics.relative_citation_ratio as relative_citation_ratio,\n",
    "    altmetrics.score as altmetrics_score,\n",
    "    altmetrics.id as altmetrics_id,\n",
    "FROM {DS_PUBLICATIONS} as t\n",
    "LEFT JOIN \n",
    "    UNNEST (t.authors) as aut\n",
    "LEFT JOIN\n",
    "    UNNEST(aut.grid_ids) as aut_grid\n",
    "WHERE\n",
    "    aut_grid IN {GOE_CAMPUS_IDS}\n",
    "GROUP BY\n",
    "    id,\n",
    "    doi,\n",
    "    title,\n",
    "    year,\n",
    "    journal,\n",
    "    publisher,\n",
    "    resulting_publication_doi,\n",
    "    pmid,\n",
    "    pmcid,\n",
    "    type,\n",
    "    date,\n",
    "    date_online,\n",
    "    date_print,\n",
    "    field_citation_ratio,\n",
    "    times_cited,\n",
    "    relative_citation_ratio,\n",
    "    altmetrics_score,\n",
    "    altmetrics_id\n",
    "ORDER BY DATE\n",
    "\"\"\"\n",
    "\n",
    "q = client.query(sql)\n",
    "client.query(\n",
    "    bqcreate(sql, GOE_COVID)\n",
    ")"
   ]
  },
  {
   "cell_type": "code",
   "execution_count": 4,
   "metadata": {},
   "outputs": [
    {
     "data": {
      "text/html": [
       "<div>\n",
       "<style scoped>\n",
       "    .dataframe tbody tr th:only-of-type {\n",
       "        vertical-align: middle;\n",
       "    }\n",
       "\n",
       "    .dataframe tbody tr th {\n",
       "        vertical-align: top;\n",
       "    }\n",
       "\n",
       "    .dataframe thead th {\n",
       "        text-align: right;\n",
       "    }\n",
       "</style>\n",
       "<table border=\"1\" class=\"dataframe\">\n",
       "  <thead>\n",
       "    <tr style=\"text-align: right;\">\n",
       "      <th></th>\n",
       "      <th>id</th>\n",
       "      <th>doi</th>\n",
       "      <th>title</th>\n",
       "      <th>year</th>\n",
       "      <th>journal</th>\n",
       "      <th>publisher</th>\n",
       "      <th>resulting_publication_doi</th>\n",
       "      <th>pmid</th>\n",
       "      <th>pmcid</th>\n",
       "      <th>type</th>\n",
       "      <th>date</th>\n",
       "      <th>date_online</th>\n",
       "      <th>date_print</th>\n",
       "      <th>open_access_categories_v2</th>\n",
       "      <th>categories</th>\n",
       "      <th>field_citation_ratio</th>\n",
       "      <th>times_cited</th>\n",
       "      <th>relative_citation_ratio</th>\n",
       "      <th>altmetrics_score</th>\n",
       "      <th>altmetrics_id</th>\n",
       "    </tr>\n",
       "  </thead>\n",
       "  <tbody>\n",
       "    <tr>\n",
       "      <th>0</th>\n",
       "      <td>pub.1126768313</td>\n",
       "      <td>10.2139/ssrn.3575633</td>\n",
       "      <td>Economic Preferences and Compliance in the Soc...</td>\n",
       "      <td>2020</td>\n",
       "      <td>SSRN Electronic Journal</td>\n",
       "      <td>Elsevier</td>\n",
       "      <td>None</td>\n",
       "      <td>None</td>\n",
       "      <td>None</td>\n",
       "      <td>preprint</td>\n",
       "      <td>2020</td>\n",
       "      <td>None</td>\n",
       "      <td>None</td>\n",
       "      <td>[oa_all, green]</td>\n",
       "      <td>{'bra_v1': None, 'for_v1': {'first_level': {'c...</td>\n",
       "      <td>NaN</td>\n",
       "      <td>8</td>\n",
       "      <td>NaN</td>\n",
       "      <td>NaN</td>\n",
       "      <td>None</td>\n",
       "    </tr>\n",
       "    <tr>\n",
       "      <th>1</th>\n",
       "      <td>pub.1135164226</td>\n",
       "      <td>10.2139/ssrn.3738617</td>\n",
       "      <td>The Credit Composition of Global Liquidity</td>\n",
       "      <td>2020</td>\n",
       "      <td>SSRN Electronic Journal</td>\n",
       "      <td>Elsevier</td>\n",
       "      <td>None</td>\n",
       "      <td>None</td>\n",
       "      <td>None</td>\n",
       "      <td>preprint</td>\n",
       "      <td>2020</td>\n",
       "      <td>None</td>\n",
       "      <td>None</td>\n",
       "      <td>[oa_all, green]</td>\n",
       "      <td>{'bra_v1': None, 'for_v1': {'first_level': {'c...</td>\n",
       "      <td>NaN</td>\n",
       "      <td>0</td>\n",
       "      <td>NaN</td>\n",
       "      <td>NaN</td>\n",
       "      <td>None</td>\n",
       "    </tr>\n",
       "    <tr>\n",
       "      <th>2</th>\n",
       "      <td>pub.1129925107</td>\n",
       "      <td>10.2139/ssrn.3661798</td>\n",
       "      <td>Mask Wars: China's Exports of Medical Goods in...</td>\n",
       "      <td>2020</td>\n",
       "      <td>SSRN Electronic Journal</td>\n",
       "      <td>Elsevier</td>\n",
       "      <td>None</td>\n",
       "      <td>None</td>\n",
       "      <td>None</td>\n",
       "      <td>preprint</td>\n",
       "      <td>2020</td>\n",
       "      <td>None</td>\n",
       "      <td>None</td>\n",
       "      <td>[oa_all, green]</td>\n",
       "      <td>{'bra_v1': None, 'for_v1': {'first_level': {'c...</td>\n",
       "      <td>NaN</td>\n",
       "      <td>3</td>\n",
       "      <td>NaN</td>\n",
       "      <td>NaN</td>\n",
       "      <td>None</td>\n",
       "    </tr>\n",
       "    <tr>\n",
       "      <th>3</th>\n",
       "      <td>pub.1128004980</td>\n",
       "      <td>10.5414/alx02147e</td>\n",
       "      <td>Allergen immunotherapy in the current COVID-19...</td>\n",
       "      <td>2020</td>\n",
       "      <td>Allergologie select</td>\n",
       "      <td>Dustri-Verlgag Dr. Karl Feistle</td>\n",
       "      <td>None</td>\n",
       "      <td>32568272</td>\n",
       "      <td>None</td>\n",
       "      <td>article</td>\n",
       "      <td>2020-01-01</td>\n",
       "      <td>2020-05-28</td>\n",
       "      <td>2020-01-01</td>\n",
       "      <td>[oa_all, green]</td>\n",
       "      <td>{'bra_v1': None, 'for_v1': None, 'hra_v1': Non...</td>\n",
       "      <td>NaN</td>\n",
       "      <td>8</td>\n",
       "      <td>NaN</td>\n",
       "      <td>3.0</td>\n",
       "      <td>96693033</td>\n",
       "    </tr>\n",
       "    <tr>\n",
       "      <th>4</th>\n",
       "      <td>pub.1130687096</td>\n",
       "      <td>10.5414/alx02166e</td>\n",
       "      <td>Use of biologicals in allergic and type-2 infl...</td>\n",
       "      <td>2020</td>\n",
       "      <td>Allergologie select</td>\n",
       "      <td>Dustri-Verlgag Dr. Karl Feistle</td>\n",
       "      <td>None</td>\n",
       "      <td>32915172</td>\n",
       "      <td>7480069</td>\n",
       "      <td>article</td>\n",
       "      <td>2020-01-01</td>\n",
       "      <td>2020-09-07</td>\n",
       "      <td>2020-01-01</td>\n",
       "      <td>[oa_all, green]</td>\n",
       "      <td>{'bra_v1': {'values': ['Clinical Medicine and ...</td>\n",
       "      <td>NaN</td>\n",
       "      <td>12</td>\n",
       "      <td>NaN</td>\n",
       "      <td>NaN</td>\n",
       "      <td>None</td>\n",
       "    </tr>\n",
       "  </tbody>\n",
       "</table>\n",
       "</div>"
      ],
      "text/plain": [
       "               id                   doi  \\\n",
       "0  pub.1126768313  10.2139/ssrn.3575633   \n",
       "1  pub.1135164226  10.2139/ssrn.3738617   \n",
       "2  pub.1129925107  10.2139/ssrn.3661798   \n",
       "3  pub.1128004980     10.5414/alx02147e   \n",
       "4  pub.1130687096     10.5414/alx02166e   \n",
       "\n",
       "                                               title  year  \\\n",
       "0  Economic Preferences and Compliance in the Soc...  2020   \n",
       "1         The Credit Composition of Global Liquidity  2020   \n",
       "2  Mask Wars: China's Exports of Medical Goods in...  2020   \n",
       "3  Allergen immunotherapy in the current COVID-19...  2020   \n",
       "4  Use of biologicals in allergic and type-2 infl...  2020   \n",
       "\n",
       "                   journal                        publisher  \\\n",
       "0  SSRN Electronic Journal                         Elsevier   \n",
       "1  SSRN Electronic Journal                         Elsevier   \n",
       "2  SSRN Electronic Journal                         Elsevier   \n",
       "3      Allergologie select  Dustri-Verlgag Dr. Karl Feistle   \n",
       "4      Allergologie select  Dustri-Verlgag Dr. Karl Feistle   \n",
       "\n",
       "  resulting_publication_doi      pmid    pmcid      type        date  \\\n",
       "0                      None      None     None  preprint        2020   \n",
       "1                      None      None     None  preprint        2020   \n",
       "2                      None      None     None  preprint        2020   \n",
       "3                      None  32568272     None   article  2020-01-01   \n",
       "4                      None  32915172  7480069   article  2020-01-01   \n",
       "\n",
       "  date_online  date_print open_access_categories_v2  \\\n",
       "0        None        None           [oa_all, green]   \n",
       "1        None        None           [oa_all, green]   \n",
       "2        None        None           [oa_all, green]   \n",
       "3  2020-05-28  2020-01-01           [oa_all, green]   \n",
       "4  2020-09-07  2020-01-01           [oa_all, green]   \n",
       "\n",
       "                                          categories  field_citation_ratio  \\\n",
       "0  {'bra_v1': None, 'for_v1': {'first_level': {'c...                   NaN   \n",
       "1  {'bra_v1': None, 'for_v1': {'first_level': {'c...                   NaN   \n",
       "2  {'bra_v1': None, 'for_v1': {'first_level': {'c...                   NaN   \n",
       "3  {'bra_v1': None, 'for_v1': None, 'hra_v1': Non...                   NaN   \n",
       "4  {'bra_v1': {'values': ['Clinical Medicine and ...                   NaN   \n",
       "\n",
       "   times_cited  relative_citation_ratio  altmetrics_score altmetrics_id  \n",
       "0            8                      NaN               NaN          None  \n",
       "1            0                      NaN               NaN          None  \n",
       "2            3                      NaN               NaN          None  \n",
       "3            8                      NaN               3.0      96693033  \n",
       "4           12                      NaN               NaN          None  "
      ]
     },
     "execution_count": 4,
     "metadata": {},
     "output_type": "execute_result"
    }
   ],
   "source": [
    "df = q.to_dataframe()\n",
    "save(df, f\"{TABLE_FOLDER}{table_name(GOE_COVID)}.csv\")\n",
    "df.head(5)"
   ]
  },
  {
   "cell_type": "markdown",
   "metadata": {},
   "source": [
    "## Create table with author information for each publication ID"
   ]
  },
  {
   "cell_type": "markdown",
   "metadata": {},
   "source": [
    "Table: __GOE_AUTHORS__\n",
    "\n",
    "- SQL statement selects author information from Dimensions table for each publication that is present in the __GOE_COVID__ table\n",
    "- Note: This does also include authors not from the Göttingen Campus"
   ]
  },
  {
   "cell_type": "code",
   "execution_count": 5,
   "metadata": {},
   "outputs": [
    {
     "data": {
      "text/plain": [
       "<google.cloud.bigquery.job.query.QueryJob at 0x7fbd942a7820>"
      ]
     },
     "execution_count": 5,
     "metadata": {},
     "output_type": "execute_result"
    }
   ],
   "source": [
    "sql = f\"\"\"\n",
    "SELECT\n",
    "  ds.id,\n",
    "  authors\n",
    "FROM\n",
    "  {DS_PUBLICATIONS} AS ds\n",
    "WHERE\n",
    "  EXISTS (\n",
    "  SELECT\n",
    "    1\n",
    "  FROM\n",
    "    {GOE_COVID} AS goe\n",
    "  WHERE\n",
    "    (`ds`.`id` = `goe`.`id`)\n",
    "  )\n",
    "\"\"\"\n",
    "\n",
    "q = client.query(sql)\n",
    "client.query(\n",
    "    bqcreate(sql, GOE_AUTHORS)\n",
    ")"
   ]
  },
  {
   "cell_type": "code",
   "execution_count": 6,
   "metadata": {},
   "outputs": [
    {
     "data": {
      "text/html": [
       "<div>\n",
       "<style scoped>\n",
       "    .dataframe tbody tr th:only-of-type {\n",
       "        vertical-align: middle;\n",
       "    }\n",
       "\n",
       "    .dataframe tbody tr th {\n",
       "        vertical-align: top;\n",
       "    }\n",
       "\n",
       "    .dataframe thead th {\n",
       "        text-align: right;\n",
       "    }\n",
       "</style>\n",
       "<table border=\"1\" class=\"dataframe\">\n",
       "  <thead>\n",
       "    <tr style=\"text-align: right;\">\n",
       "      <th></th>\n",
       "      <th>id</th>\n",
       "      <th>authors</th>\n",
       "    </tr>\n",
       "  </thead>\n",
       "  <tbody>\n",
       "    <tr>\n",
       "      <th>0</th>\n",
       "      <td>pub.1134912700</td>\n",
       "      <td>[{'first_name': 'Johannes', 'last_name': 'Ring...</td>\n",
       "    </tr>\n",
       "    <tr>\n",
       "      <th>1</th>\n",
       "      <td>pub.1131624687</td>\n",
       "      <td>[{'first_name': 'Daniel', 'last_name': 'Kiefl'...</td>\n",
       "    </tr>\n",
       "    <tr>\n",
       "      <th>2</th>\n",
       "      <td>pub.1133882352</td>\n",
       "      <td>[{'first_name': 'C', 'last_name': 'Zampetidis'...</td>\n",
       "    </tr>\n",
       "    <tr>\n",
       "      <th>3</th>\n",
       "      <td>pub.1131796221</td>\n",
       "      <td>[{'first_name': 'Marco', 'last_name': 'Schiavo...</td>\n",
       "    </tr>\n",
       "    <tr>\n",
       "      <th>4</th>\n",
       "      <td>pub.1137262430</td>\n",
       "      <td>[{'first_name': 'Metodi V.', 'last_name': 'Sta...</td>\n",
       "    </tr>\n",
       "  </tbody>\n",
       "</table>\n",
       "</div>"
      ],
      "text/plain": [
       "               id                                            authors\n",
       "0  pub.1134912700  [{'first_name': 'Johannes', 'last_name': 'Ring...\n",
       "1  pub.1131624687  [{'first_name': 'Daniel', 'last_name': 'Kiefl'...\n",
       "2  pub.1133882352  [{'first_name': 'C', 'last_name': 'Zampetidis'...\n",
       "3  pub.1131796221  [{'first_name': 'Marco', 'last_name': 'Schiavo...\n",
       "4  pub.1137262430  [{'first_name': 'Metodi V.', 'last_name': 'Sta..."
      ]
     },
     "execution_count": 6,
     "metadata": {},
     "output_type": "execute_result"
    }
   ],
   "source": [
    "df = q.to_dataframe()\n",
    "save(df, f\"{TABLE_FOLDER}{table_name(GOE_AUTHORS)}.csv\")\n",
    "df.head(5)"
   ]
  },
  {
   "cell_type": "markdown",
   "metadata": {},
   "source": [
    "-----"
   ]
  },
  {
   "cell_type": "markdown",
   "metadata": {},
   "source": [
    "# Part 2: Authors and Affiliations"
   ]
  },
  {
   "cell_type": "markdown",
   "metadata": {},
   "source": [
    "## Create table with counts of author affiliations"
   ]
  },
  {
   "cell_type": "markdown",
   "metadata": {},
   "source": [
    "Table: __GOE_AUTHORS_AFFILIATION__\n",
    "\n",
    "- SQL statement selects all affiliations and the frequency of their occurrence for each `first_name`-`last_name` combination, ordered by frequency."
   ]
  },
  {
   "cell_type": "code",
   "execution_count": 7,
   "metadata": {},
   "outputs": [
    {
     "data": {
      "text/plain": [
       "<google.cloud.bigquery.job.query.QueryJob at 0x7fbd616599a0>"
      ]
     },
     "execution_count": 7,
     "metadata": {},
     "output_type": "execute_result"
    }
   ],
   "source": [
    "sql = f\"\"\"\n",
    "SELECT\n",
    "    a.first_name,\n",
    "    a.last_name,\n",
    "    grid_iden,\n",
    "    count(grid_ids) as freq\n",
    "FROM {GOE_AUTHORS} as goe\n",
    "LEFT JOIN \n",
    "    UNNEST(goe.authors) AS a\n",
    "LEFT JOIN \n",
    "    UNNEST(a.grid_ids) AS grid_iden\n",
    "GROUP BY\n",
    "    a.first_name,\n",
    "    a.last_name,\n",
    "    a.researcher_id,\n",
    "    grid_iden\n",
    "ORDER BY freq DESC\n",
    "\"\"\"\n",
    "\n",
    "q = client.query(sql)\n",
    "client.query(\n",
    "    bqcreate(sql, GOE_AUTHORS_AFFILIATION)\n",
    ")"
   ]
  },
  {
   "cell_type": "code",
   "execution_count": 8,
   "metadata": {},
   "outputs": [
    {
     "data": {
      "text/html": [
       "<div>\n",
       "<style scoped>\n",
       "    .dataframe tbody tr th:only-of-type {\n",
       "        vertical-align: middle;\n",
       "    }\n",
       "\n",
       "    .dataframe tbody tr th {\n",
       "        vertical-align: top;\n",
       "    }\n",
       "\n",
       "    .dataframe thead th {\n",
       "        text-align: right;\n",
       "    }\n",
       "</style>\n",
       "<table border=\"1\" class=\"dataframe\">\n",
       "  <thead>\n",
       "    <tr style=\"text-align: right;\">\n",
       "      <th></th>\n",
       "      <th>first_name</th>\n",
       "      <th>last_name</th>\n",
       "      <th>grid_iden</th>\n",
       "      <th>freq</th>\n",
       "    </tr>\n",
       "  </thead>\n",
       "  <tbody>\n",
       "    <tr>\n",
       "      <th>0</th>\n",
       "      <td>Stefan</td>\n",
       "      <td>Pöhlmann</td>\n",
       "      <td>grid.418215.b</td>\n",
       "      <td>44</td>\n",
       "    </tr>\n",
       "    <tr>\n",
       "      <th>1</th>\n",
       "      <td>Stefan</td>\n",
       "      <td>Pöhlmann</td>\n",
       "      <td>grid.7450.6</td>\n",
       "      <td>41</td>\n",
       "    </tr>\n",
       "    <tr>\n",
       "      <th>2</th>\n",
       "      <td>Markus</td>\n",
       "      <td>Hoffmann</td>\n",
       "      <td>grid.418215.b</td>\n",
       "      <td>40</td>\n",
       "    </tr>\n",
       "    <tr>\n",
       "      <th>3</th>\n",
       "      <td>Markus</td>\n",
       "      <td>Hoffmann</td>\n",
       "      <td>grid.7450.6</td>\n",
       "      <td>30</td>\n",
       "    </tr>\n",
       "    <tr>\n",
       "      <th>4</th>\n",
       "      <td>Stefan</td>\n",
       "      <td>Pöhlmann</td>\n",
       "      <td>grid.411984.1</td>\n",
       "      <td>20</td>\n",
       "    </tr>\n",
       "  </tbody>\n",
       "</table>\n",
       "</div>"
      ],
      "text/plain": [
       "  first_name last_name      grid_iden  freq\n",
       "0     Stefan  Pöhlmann  grid.418215.b    44\n",
       "1     Stefan  Pöhlmann    grid.7450.6    41\n",
       "2     Markus  Hoffmann  grid.418215.b    40\n",
       "3     Markus  Hoffmann    grid.7450.6    30\n",
       "4     Stefan  Pöhlmann  grid.411984.1    20"
      ]
     },
     "execution_count": 8,
     "metadata": {},
     "output_type": "execute_result"
    }
   ],
   "source": [
    "df = q.to_dataframe()\n",
    "save(df, f\"{TABLE_FOLDER}{table_name(GOE_AUTHORS_AFFILIATION)}.csv\")\n",
    "df.head(5)"
   ]
  },
  {
   "cell_type": "markdown",
   "metadata": {},
   "source": [
    "## Create table with author full names"
   ]
  },
  {
   "cell_type": "markdown",
   "metadata": {},
   "source": [
    "Table: __GOE_AUTHORS_FULL_NAMES__\n",
    "\n",
    "- Create a new table where author initials and last name are combined to a `full_name` to identify authors\n",
    "- Note: Middle names are not considered\n",
    "- Replace some special characters in author names"
   ]
  },
  {
   "cell_type": "code",
   "execution_count": 9,
   "metadata": {},
   "outputs": [],
   "source": [
    "df = load(f\"{TABLE_FOLDER}{table_name(GOE_AUTHORS_AFFILIATION)}.csv\")"
   ]
  },
  {
   "cell_type": "code",
   "execution_count": 10,
   "metadata": {},
   "outputs": [
    {
     "data": {
      "text/html": [
       "<div>\n",
       "<style scoped>\n",
       "    .dataframe tbody tr th:only-of-type {\n",
       "        vertical-align: middle;\n",
       "    }\n",
       "\n",
       "    .dataframe tbody tr th {\n",
       "        vertical-align: top;\n",
       "    }\n",
       "\n",
       "    .dataframe thead th {\n",
       "        text-align: right;\n",
       "    }\n",
       "</style>\n",
       "<table border=\"1\" class=\"dataframe\">\n",
       "  <thead>\n",
       "    <tr style=\"text-align: right;\">\n",
       "      <th></th>\n",
       "      <th>first_name</th>\n",
       "      <th>last_name</th>\n",
       "      <th>grid_iden</th>\n",
       "      <th>freq</th>\n",
       "      <th>full_name</th>\n",
       "    </tr>\n",
       "  </thead>\n",
       "  <tbody>\n",
       "    <tr>\n",
       "      <th>0</th>\n",
       "      <td>Stefan</td>\n",
       "      <td>Pöhlmann</td>\n",
       "      <td>grid.418215.b</td>\n",
       "      <td>44</td>\n",
       "      <td>s_poehlmann</td>\n",
       "    </tr>\n",
       "    <tr>\n",
       "      <th>1</th>\n",
       "      <td>Stefan</td>\n",
       "      <td>Pöhlmann</td>\n",
       "      <td>grid.7450.6</td>\n",
       "      <td>41</td>\n",
       "      <td>s_poehlmann</td>\n",
       "    </tr>\n",
       "    <tr>\n",
       "      <th>2</th>\n",
       "      <td>Markus</td>\n",
       "      <td>Hoffmann</td>\n",
       "      <td>grid.418215.b</td>\n",
       "      <td>40</td>\n",
       "      <td>m_hoffmann</td>\n",
       "    </tr>\n",
       "    <tr>\n",
       "      <th>3</th>\n",
       "      <td>Markus</td>\n",
       "      <td>Hoffmann</td>\n",
       "      <td>grid.7450.6</td>\n",
       "      <td>30</td>\n",
       "      <td>m_hoffmann</td>\n",
       "    </tr>\n",
       "    <tr>\n",
       "      <th>4</th>\n",
       "      <td>Stefan</td>\n",
       "      <td>Pöhlmann</td>\n",
       "      <td>grid.411984.1</td>\n",
       "      <td>20</td>\n",
       "      <td>s_poehlmann</td>\n",
       "    </tr>\n",
       "  </tbody>\n",
       "</table>\n",
       "</div>"
      ],
      "text/plain": [
       "  first_name last_name      grid_iden  freq    full_name\n",
       "0     Stefan  Pöhlmann  grid.418215.b    44  s_poehlmann\n",
       "1     Stefan  Pöhlmann    grid.7450.6    41  s_poehlmann\n",
       "2     Markus  Hoffmann  grid.418215.b    40   m_hoffmann\n",
       "3     Markus  Hoffmann    grid.7450.6    30   m_hoffmann\n",
       "4     Stefan  Pöhlmann  grid.411984.1    20  s_poehlmann"
      ]
     },
     "execution_count": 10,
     "metadata": {},
     "output_type": "execute_result"
    }
   ],
   "source": [
    "# dictionary with special characters to replace\n",
    "REPLACE_CHARS = {\n",
    "    'ä': 'ae', 'ö': 'oe', 'ü': 'ue', '\\.': '', 'ß': 'ss', 'ş': 's', 'ğ': 'g', 'ç': 'c'\n",
    "}\n",
    "\n",
    "df_full_name = df.copy()\n",
    "\n",
    "df_full_name[\"full_name\"] = df_full_name[\"first_name\"].str.lower().str[0] + \"_\" + df_full_name[\"last_name\"].str.lower()\n",
    "df_full_name.replace({'full_name': REPLACE_CHARS}, regex=True, inplace=True)\n",
    "df_full_name.head(5)"
   ]
  },
  {
   "cell_type": "code",
   "execution_count": 11,
   "metadata": {},
   "outputs": [
    {
     "data": {
      "text/plain": [
       "<google.cloud.bigquery.job.load.LoadJob at 0x7fbd6166eeb0>"
      ]
     },
     "execution_count": 11,
     "metadata": {},
     "output_type": "execute_result"
    }
   ],
   "source": [
    "bqupload(\n",
    "    client, df_full_name, GOE_AUTHORS_FULL_NAMES\n",
    ")"
   ]
  },
  {
   "cell_type": "code",
   "execution_count": 12,
   "metadata": {},
   "outputs": [],
   "source": [
    "save(df_full_name, f\"{TABLE_FOLDER}{table_name(GOE_AUTHORS_FULL_NAMES)}.csv\")"
   ]
  },
  {
   "cell_type": "markdown",
   "metadata": {},
   "source": [
    "## Create table with location information for each affiliation for each author"
   ]
  },
  {
   "cell_type": "markdown",
   "metadata": {},
   "source": [
    "Table: __GOE_AUTHORS_LOCATION__\n",
    "\n",
    "- An author can have multiple affiliations; all of them are considered in this table"
   ]
  },
  {
   "cell_type": "code",
   "execution_count": 13,
   "metadata": {},
   "outputs": [
    {
     "data": {
      "text/plain": [
       "<google.cloud.bigquery.job.query.QueryJob at 0x7fbd6166e850>"
      ]
     },
     "execution_count": 13,
     "metadata": {},
     "output_type": "execute_result"
    }
   ],
   "source": [
    "sql = f\"\"\"\n",
    "SELECT\n",
    "  goe.full_name,\n",
    "  goe.grid_iden,\n",
    "  goe.freq,\n",
    "  ds.name,\n",
    "  ds.address.city as city,\n",
    "  ds.address.country as country\n",
    "FROM {GOE_AUTHORS_FULL_NAMES} AS goe\n",
    "INNER JOIN {DS_GRID} AS ds\n",
    "    ON `ds`.`id` = `goe`.`grid_iden`\n",
    "ORDER BY freq DESC\n",
    "\"\"\"\n",
    "\n",
    "q = client.query(sql)\n",
    "client.query(\n",
    "    bqcreate(sql, GOE_AUTHORS_LOCATION)\n",
    ")"
   ]
  },
  {
   "cell_type": "code",
   "execution_count": 14,
   "metadata": {},
   "outputs": [
    {
     "data": {
      "text/html": [
       "<div>\n",
       "<style scoped>\n",
       "    .dataframe tbody tr th:only-of-type {\n",
       "        vertical-align: middle;\n",
       "    }\n",
       "\n",
       "    .dataframe tbody tr th {\n",
       "        vertical-align: top;\n",
       "    }\n",
       "\n",
       "    .dataframe thead th {\n",
       "        text-align: right;\n",
       "    }\n",
       "</style>\n",
       "<table border=\"1\" class=\"dataframe\">\n",
       "  <thead>\n",
       "    <tr style=\"text-align: right;\">\n",
       "      <th></th>\n",
       "      <th>full_name</th>\n",
       "      <th>grid_iden</th>\n",
       "      <th>freq</th>\n",
       "      <th>name</th>\n",
       "      <th>city</th>\n",
       "      <th>country</th>\n",
       "    </tr>\n",
       "  </thead>\n",
       "  <tbody>\n",
       "    <tr>\n",
       "      <th>0</th>\n",
       "      <td>s_poehlmann</td>\n",
       "      <td>grid.418215.b</td>\n",
       "      <td>44</td>\n",
       "      <td>German Primate Center</td>\n",
       "      <td>Göttingen</td>\n",
       "      <td>Germany</td>\n",
       "    </tr>\n",
       "    <tr>\n",
       "      <th>1</th>\n",
       "      <td>s_poehlmann</td>\n",
       "      <td>grid.7450.6</td>\n",
       "      <td>41</td>\n",
       "      <td>University of Göttingen</td>\n",
       "      <td>Göttingen</td>\n",
       "      <td>Germany</td>\n",
       "    </tr>\n",
       "    <tr>\n",
       "      <th>2</th>\n",
       "      <td>m_hoffmann</td>\n",
       "      <td>grid.418215.b</td>\n",
       "      <td>40</td>\n",
       "      <td>German Primate Center</td>\n",
       "      <td>Göttingen</td>\n",
       "      <td>Germany</td>\n",
       "    </tr>\n",
       "    <tr>\n",
       "      <th>3</th>\n",
       "      <td>m_hoffmann</td>\n",
       "      <td>grid.7450.6</td>\n",
       "      <td>30</td>\n",
       "      <td>University of Göttingen</td>\n",
       "      <td>Göttingen</td>\n",
       "      <td>Germany</td>\n",
       "    </tr>\n",
       "    <tr>\n",
       "      <th>4</th>\n",
       "      <td>s_poehlmann</td>\n",
       "      <td>grid.411984.1</td>\n",
       "      <td>20</td>\n",
       "      <td>Universitätsmedizin Göttingen</td>\n",
       "      <td>Göttingen</td>\n",
       "      <td>Germany</td>\n",
       "    </tr>\n",
       "  </tbody>\n",
       "</table>\n",
       "</div>"
      ],
      "text/plain": [
       "     full_name      grid_iden  freq                           name       city  \\\n",
       "0  s_poehlmann  grid.418215.b    44          German Primate Center  Göttingen   \n",
       "1  s_poehlmann    grid.7450.6    41        University of Göttingen  Göttingen   \n",
       "2   m_hoffmann  grid.418215.b    40          German Primate Center  Göttingen   \n",
       "3   m_hoffmann    grid.7450.6    30        University of Göttingen  Göttingen   \n",
       "4  s_poehlmann  grid.411984.1    20  Universitätsmedizin Göttingen  Göttingen   \n",
       "\n",
       "   country  \n",
       "0  Germany  \n",
       "1  Germany  \n",
       "2  Germany  \n",
       "3  Germany  \n",
       "4  Germany  "
      ]
     },
     "execution_count": 14,
     "metadata": {},
     "output_type": "execute_result"
    }
   ],
   "source": [
    "df = q.to_dataframe()\n",
    "save(df, f\"{TABLE_FOLDER}{table_name(GOE_AUTHORS_LOCATION)}.csv\")\n",
    "df.head(5)"
   ]
  },
  {
   "cell_type": "markdown",
   "metadata": {},
   "source": [
    "## Create table with main affiliation for each author"
   ]
  },
  {
   "cell_type": "markdown",
   "metadata": {},
   "source": [
    "Table: __GOE_AUTHORS_MAIN_AFFILIATION__\n",
    "\n",
    "- An author can have multiple affiliations. For later use, only the affiliation for with an author wrote most papers is considered in this table.\n",
    "- If an author has multiple affiliations with the same number of papers, the first affiliation in the DataFrame is considered."
   ]
  },
  {
   "cell_type": "code",
   "execution_count": 15,
   "metadata": {},
   "outputs": [],
   "source": [
    "df = load(f\"{TABLE_FOLDER}{table_name(GOE_AUTHORS_LOCATION)}.csv\")"
   ]
  },
  {
   "cell_type": "code",
   "execution_count": 16,
   "metadata": {},
   "outputs": [
    {
     "data": {
      "text/html": [
       "<div>\n",
       "<style scoped>\n",
       "    .dataframe tbody tr th:only-of-type {\n",
       "        vertical-align: middle;\n",
       "    }\n",
       "\n",
       "    .dataframe tbody tr th {\n",
       "        vertical-align: top;\n",
       "    }\n",
       "\n",
       "    .dataframe thead th {\n",
       "        text-align: right;\n",
       "    }\n",
       "</style>\n",
       "<table border=\"1\" class=\"dataframe\">\n",
       "  <thead>\n",
       "    <tr style=\"text-align: right;\">\n",
       "      <th></th>\n",
       "      <th>full_name</th>\n",
       "      <th>main_affiliation</th>\n",
       "      <th>freq</th>\n",
       "    </tr>\n",
       "  </thead>\n",
       "  <tbody>\n",
       "    <tr>\n",
       "      <th>3465</th>\n",
       "      <td>s_poehlmann</td>\n",
       "      <td>grid.418215.b</td>\n",
       "      <td>44</td>\n",
       "    </tr>\n",
       "    <tr>\n",
       "      <th>2401</th>\n",
       "      <td>m_hoffmann</td>\n",
       "      <td>grid.418215.b</td>\n",
       "      <td>40</td>\n",
       "    </tr>\n",
       "    <tr>\n",
       "      <th>2140</th>\n",
       "      <td>l_gattinoni</td>\n",
       "      <td>grid.7450.6</td>\n",
       "      <td>17</td>\n",
       "    </tr>\n",
       "    <tr>\n",
       "      <th>1446</th>\n",
       "      <td>h_kleine-weber</td>\n",
       "      <td>grid.418215.b</td>\n",
       "      <td>15</td>\n",
       "    </tr>\n",
       "    <tr>\n",
       "      <th>1436</th>\n",
       "      <td>h_hofmann-winkler</td>\n",
       "      <td>grid.418215.b</td>\n",
       "      <td>14</td>\n",
       "    </tr>\n",
       "  </tbody>\n",
       "</table>\n",
       "</div>"
      ],
      "text/plain": [
       "              full_name main_affiliation  freq\n",
       "3465        s_poehlmann    grid.418215.b    44\n",
       "2401         m_hoffmann    grid.418215.b    40\n",
       "2140        l_gattinoni      grid.7450.6    17\n",
       "1446     h_kleine-weber    grid.418215.b    15\n",
       "1436  h_hofmann-winkler    grid.418215.b    14"
      ]
     },
     "execution_count": 16,
     "metadata": {},
     "output_type": "execute_result"
    }
   ],
   "source": [
    "df_main_affiliation = df.copy()\n",
    "df_main_affiliation = df_main_affiliation.groupby([\"full_name\", \"grid_iden\"])[\"freq\"].max().reset_index()\n",
    "df_main_affiliation = df_main_affiliation.sort_values('freq', ascending=False)\n",
    "df_main_affiliation = df_main_affiliation.drop_duplicates(subset='full_name', keep='first')\n",
    "df_main_affiliation.rename(columns = {'grid_iden': 'main_affiliation'}, inplace=True)\n",
    "df_main_affiliation.head(5)"
   ]
  },
  {
   "cell_type": "code",
   "execution_count": 17,
   "metadata": {},
   "outputs": [
    {
     "data": {
      "text/html": [
       "<div>\n",
       "<style scoped>\n",
       "    .dataframe tbody tr th:only-of-type {\n",
       "        vertical-align: middle;\n",
       "    }\n",
       "\n",
       "    .dataframe tbody tr th {\n",
       "        vertical-align: top;\n",
       "    }\n",
       "\n",
       "    .dataframe thead th {\n",
       "        text-align: right;\n",
       "    }\n",
       "</style>\n",
       "<table border=\"1\" class=\"dataframe\">\n",
       "  <thead>\n",
       "    <tr style=\"text-align: right;\">\n",
       "      <th></th>\n",
       "      <th>full_name</th>\n",
       "      <th>main_affiliation</th>\n",
       "    </tr>\n",
       "  </thead>\n",
       "  <tbody>\n",
       "    <tr>\n",
       "      <th>3465</th>\n",
       "      <td>s_poehlmann</td>\n",
       "      <td>grid.418215.b</td>\n",
       "    </tr>\n",
       "    <tr>\n",
       "      <th>2401</th>\n",
       "      <td>m_hoffmann</td>\n",
       "      <td>grid.418215.b</td>\n",
       "    </tr>\n",
       "    <tr>\n",
       "      <th>2140</th>\n",
       "      <td>l_gattinoni</td>\n",
       "      <td>grid.7450.6</td>\n",
       "    </tr>\n",
       "    <tr>\n",
       "      <th>1446</th>\n",
       "      <td>h_kleine-weber</td>\n",
       "      <td>grid.418215.b</td>\n",
       "    </tr>\n",
       "    <tr>\n",
       "      <th>1436</th>\n",
       "      <td>h_hofmann-winkler</td>\n",
       "      <td>grid.418215.b</td>\n",
       "    </tr>\n",
       "  </tbody>\n",
       "</table>\n",
       "</div>"
      ],
      "text/plain": [
       "              full_name main_affiliation\n",
       "3465        s_poehlmann    grid.418215.b\n",
       "2401         m_hoffmann    grid.418215.b\n",
       "2140        l_gattinoni      grid.7450.6\n",
       "1446     h_kleine-weber    grid.418215.b\n",
       "1436  h_hofmann-winkler    grid.418215.b"
      ]
     },
     "execution_count": 17,
     "metadata": {},
     "output_type": "execute_result"
    }
   ],
   "source": [
    "df_main_affiliation.drop(['freq'], axis=1, inplace=True)\n",
    "df_main_affiliation.head()"
   ]
  },
  {
   "cell_type": "code",
   "execution_count": 18,
   "metadata": {},
   "outputs": [
    {
     "data": {
      "text/plain": [
       "<google.cloud.bigquery.job.load.LoadJob at 0x7fbd609d62b0>"
      ]
     },
     "execution_count": 18,
     "metadata": {},
     "output_type": "execute_result"
    }
   ],
   "source": [
    "bqupload(\n",
    "    client, df_main_affiliation, GOE_AUTHORS_MAIN_AFFILIATION\n",
    ")"
   ]
  },
  {
   "cell_type": "code",
   "execution_count": 19,
   "metadata": {},
   "outputs": [],
   "source": [
    "save(df_main_affiliation, f\"{TABLE_FOLDER}{table_name(GOE_AUTHORS_MAIN_AFFILIATION)}.csv\")"
   ]
  },
  {
   "cell_type": "markdown",
   "metadata": {},
   "source": [
    "-----"
   ]
  },
  {
   "cell_type": "markdown",
   "metadata": {},
   "source": [
    "# Part 3: Cooperations"
   ]
  },
  {
   "cell_type": "markdown",
   "metadata": {},
   "source": [
    "## Create table with authors and their main affiliations for each publication"
   ]
  },
  {
   "cell_type": "markdown",
   "metadata": {},
   "source": [
    "Table: __GOE_AUTHORS_COOPERATION__\n",
    "\n",
    "- SQL statement selects publication ID, author full names, and the main affiliation with its name, city, and country for each author"
   ]
  },
  {
   "cell_type": "code",
   "execution_count": 20,
   "metadata": {},
   "outputs": [
    {
     "data": {
      "text/plain": [
       "<google.cloud.bigquery.job.query.QueryJob at 0x7fbd609d6940>"
      ]
     },
     "execution_count": 20,
     "metadata": {},
     "output_type": "execute_result"
    }
   ],
   "source": [
    "sql = f\"\"\"\n",
    "SELECT DISTINCT\n",
    "    goe.id,\n",
    "    fn.full_name,\n",
    "    loc.name as affiliation_name,\n",
    "    loc.city as affiliation_city,\n",
    "    loc.country as affiliation_country,\n",
    "    aff.main_affiliation as affiliation_id\n",
    "FROM {GOE_AUTHORS} AS goe\n",
    "LEFT JOIN \n",
    "    UNNEST(goe.authors) AS a\n",
    "JOIN {GOE_AUTHORS_FULL_NAMES} AS fn\n",
    "    ON (fn.first_name = a.first_name AND fn.last_name = a.last_name)\n",
    "JOIN {GOE_AUTHORS_LOCATION} AS loc\n",
    "    ON (fn.full_name = loc.full_name)\n",
    "JOIN {GOE_AUTHORS_MAIN_AFFILIATION} AS aff\n",
    "    ON (fn.full_name = aff.full_name)\n",
    "WHERE\n",
    "    loc.grid_iden = aff.main_affiliation\n",
    "ORDER BY id\n",
    "\"\"\"\n",
    "\n",
    "q = client.query(sql)\n",
    "client.query(\n",
    "    bqcreate(sql, GOE_AUTHORS_COOPERATION)\n",
    ")"
   ]
  },
  {
   "cell_type": "code",
   "execution_count": 21,
   "metadata": {},
   "outputs": [
    {
     "data": {
      "text/html": [
       "<div>\n",
       "<style scoped>\n",
       "    .dataframe tbody tr th:only-of-type {\n",
       "        vertical-align: middle;\n",
       "    }\n",
       "\n",
       "    .dataframe tbody tr th {\n",
       "        vertical-align: top;\n",
       "    }\n",
       "\n",
       "    .dataframe thead th {\n",
       "        text-align: right;\n",
       "    }\n",
       "</style>\n",
       "<table border=\"1\" class=\"dataframe\">\n",
       "  <thead>\n",
       "    <tr style=\"text-align: right;\">\n",
       "      <th></th>\n",
       "      <th>id</th>\n",
       "      <th>full_name</th>\n",
       "      <th>affiliation_name</th>\n",
       "      <th>affiliation_city</th>\n",
       "      <th>affiliation_country</th>\n",
       "      <th>affiliation_id</th>\n",
       "    </tr>\n",
       "  </thead>\n",
       "  <tbody>\n",
       "    <tr>\n",
       "      <th>0</th>\n",
       "      <td>pub.1124079136</td>\n",
       "      <td>b_ahmed</td>\n",
       "      <td>Cairo University</td>\n",
       "      <td>Giza</td>\n",
       "      <td>Egypt</td>\n",
       "      <td>grid.7776.1</td>\n",
       "    </tr>\n",
       "    <tr>\n",
       "      <th>1</th>\n",
       "      <td>pub.1124079136</td>\n",
       "      <td>h_amer</td>\n",
       "      <td>Cairo University</td>\n",
       "      <td>Giza</td>\n",
       "      <td>Egypt</td>\n",
       "      <td>grid.7776.1</td>\n",
       "    </tr>\n",
       "    <tr>\n",
       "      <th>2</th>\n",
       "      <td>pub.1124079136</td>\n",
       "      <td>j_kissenkoetter</td>\n",
       "      <td>University of Göttingen</td>\n",
       "      <td>Göttingen</td>\n",
       "      <td>Germany</td>\n",
       "      <td>grid.7450.6</td>\n",
       "    </tr>\n",
       "    <tr>\n",
       "      <th>3</th>\n",
       "      <td>pub.1124079136</td>\n",
       "      <td>a_el wahed</td>\n",
       "      <td>University of Göttingen</td>\n",
       "      <td>Göttingen</td>\n",
       "      <td>Germany</td>\n",
       "      <td>grid.7450.6</td>\n",
       "    </tr>\n",
       "    <tr>\n",
       "      <th>4</th>\n",
       "      <td>pub.1124079136</td>\n",
       "      <td>m_bayoumi</td>\n",
       "      <td>Cairo University</td>\n",
       "      <td>Giza</td>\n",
       "      <td>Egypt</td>\n",
       "      <td>grid.7776.1</td>\n",
       "    </tr>\n",
       "  </tbody>\n",
       "</table>\n",
       "</div>"
      ],
      "text/plain": [
       "               id        full_name         affiliation_name affiliation_city  \\\n",
       "0  pub.1124079136          b_ahmed         Cairo University             Giza   \n",
       "1  pub.1124079136           h_amer         Cairo University             Giza   \n",
       "2  pub.1124079136  j_kissenkoetter  University of Göttingen        Göttingen   \n",
       "3  pub.1124079136       a_el wahed  University of Göttingen        Göttingen   \n",
       "4  pub.1124079136        m_bayoumi         Cairo University             Giza   \n",
       "\n",
       "  affiliation_country affiliation_id  \n",
       "0               Egypt    grid.7776.1  \n",
       "1               Egypt    grid.7776.1  \n",
       "2             Germany    grid.7450.6  \n",
       "3             Germany    grid.7450.6  \n",
       "4               Egypt    grid.7776.1  "
      ]
     },
     "execution_count": 21,
     "metadata": {},
     "output_type": "execute_result"
    }
   ],
   "source": [
    "df = q.to_dataframe()\n",
    "save(df, f\"{TABLE_FOLDER}{table_name(GOE_AUTHORS_COOPERATION)}.csv\")\n",
    "df.head(5)"
   ]
  },
  {
   "cell_type": "markdown",
   "metadata": {},
   "source": [
    "## Create table that counts cooperations for institutions from Göttingen campus"
   ]
  },
  {
   "cell_type": "markdown",
   "metadata": {},
   "source": [
    "Table: __GOE_COOPERATIONS__\n",
    "\n",
    "- SQL statement selects affiliation information and counts occurrence of these affiliations in the authors cooperation table\n",
    "- By selecting and grouping different columns (e.g., only `affiliation_country`) the cooperation count can be conducted on an institutional, city or country level."
   ]
  },
  {
   "cell_type": "code",
   "execution_count": 22,
   "metadata": {},
   "outputs": [
    {
     "data": {
      "text/plain": [
       "<google.cloud.bigquery.job.query.QueryJob at 0x7fbd60b13370>"
      ]
     },
     "execution_count": 22,
     "metadata": {},
     "output_type": "execute_result"
    }
   ],
   "source": [
    "sql = f\"\"\"\n",
    "SELECT\n",
    "    affiliation_name,\n",
    "    affiliation_city,\n",
    "    affiliation_country,\n",
    "    count(DISTINCT id) AS nr_of_cooperations\n",
    "FROM {GOE_AUTHORS_COOPERATION} as goe\n",
    "WHERE\n",
    "    affiliation_id NOT IN {GOE_CAMPUS_IDS}\n",
    "GROUP BY \n",
    "    affiliation_name,\n",
    "    affiliation_city,\n",
    "    affiliation_country\n",
    "ORDER BY nr_of_cooperations DESC\n",
    "\"\"\"\n",
    "\n",
    "q = client.query(sql)\n",
    "client.query(\n",
    "    bqcreate(sql, GOE_COOPERATIONS)\n",
    ")"
   ]
  },
  {
   "cell_type": "code",
   "execution_count": 23,
   "metadata": {},
   "outputs": [
    {
     "data": {
      "text/html": [
       "<div>\n",
       "<style scoped>\n",
       "    .dataframe tbody tr th:only-of-type {\n",
       "        vertical-align: middle;\n",
       "    }\n",
       "\n",
       "    .dataframe tbody tr th {\n",
       "        vertical-align: top;\n",
       "    }\n",
       "\n",
       "    .dataframe thead th {\n",
       "        text-align: right;\n",
       "    }\n",
       "</style>\n",
       "<table border=\"1\" class=\"dataframe\">\n",
       "  <thead>\n",
       "    <tr style=\"text-align: right;\">\n",
       "      <th></th>\n",
       "      <th>affiliation_name</th>\n",
       "      <th>affiliation_city</th>\n",
       "      <th>affiliation_country</th>\n",
       "      <th>nr_of_cooperations</th>\n",
       "    </tr>\n",
       "  </thead>\n",
       "  <tbody>\n",
       "    <tr>\n",
       "      <th>0</th>\n",
       "      <td>Charité - University Medicine Berlin</td>\n",
       "      <td>Berlin</td>\n",
       "      <td>Germany</td>\n",
       "      <td>37</td>\n",
       "    </tr>\n",
       "    <tr>\n",
       "      <th>1</th>\n",
       "      <td>Hannover Medical School</td>\n",
       "      <td>Hanover</td>\n",
       "      <td>Germany</td>\n",
       "      <td>37</td>\n",
       "    </tr>\n",
       "    <tr>\n",
       "      <th>2</th>\n",
       "      <td>University of Erlangen-Nuremberg</td>\n",
       "      <td>Erlangen</td>\n",
       "      <td>Germany</td>\n",
       "      <td>23</td>\n",
       "    </tr>\n",
       "    <tr>\n",
       "      <th>3</th>\n",
       "      <td>Ludwig-Maximilians-Universität München</td>\n",
       "      <td>Munich</td>\n",
       "      <td>Germany</td>\n",
       "      <td>18</td>\n",
       "    </tr>\n",
       "    <tr>\n",
       "      <th>4</th>\n",
       "      <td>Jena University Hospital</td>\n",
       "      <td>Jena</td>\n",
       "      <td>Germany</td>\n",
       "      <td>18</td>\n",
       "    </tr>\n",
       "  </tbody>\n",
       "</table>\n",
       "</div>"
      ],
      "text/plain": [
       "                         affiliation_name affiliation_city  \\\n",
       "0    Charité - University Medicine Berlin           Berlin   \n",
       "1                 Hannover Medical School          Hanover   \n",
       "2        University of Erlangen-Nuremberg         Erlangen   \n",
       "3  Ludwig-Maximilians-Universität München           Munich   \n",
       "4                Jena University Hospital             Jena   \n",
       "\n",
       "  affiliation_country  nr_of_cooperations  \n",
       "0             Germany                  37  \n",
       "1             Germany                  37  \n",
       "2             Germany                  23  \n",
       "3             Germany                  18  \n",
       "4             Germany                  18  "
      ]
     },
     "execution_count": 23,
     "metadata": {},
     "output_type": "execute_result"
    }
   ],
   "source": [
    "df = q.to_dataframe()\n",
    "save(df, f\"{TABLE_FOLDER}{table_name(GOE_COOPERATIONS)}.csv\")\n",
    "df.head(5)"
   ]
  },
  {
   "cell_type": "markdown",
   "metadata": {},
   "source": [
    "-----"
   ]
  },
  {
   "cell_type": "markdown",
   "metadata": {},
   "source": [
    "# Part 4: Categories"
   ]
  },
  {
   "cell_type": "markdown",
   "metadata": {},
   "source": [
    "### Count occurrences of category fields"
   ]
  },
  {
   "cell_type": "markdown",
   "metadata": {},
   "source": [
    "Table: __GOE_CATEGORY_COUNT__\n",
    "\n",
    "- SQL statement selects counts for each category field for each publication\n",
    "- For each column (i.e., category), the sum of publications with information in this category is counted afterwards\n",
    "- We get an overview of how many publications have a value for a specific category"
   ]
  },
  {
   "cell_type": "code",
   "execution_count": 24,
   "metadata": {},
   "outputs": [
    {
     "data": {
      "text/plain": [
       "<google.cloud.bigquery.job.query.QueryJob at 0x7fbd609d6190>"
      ]
     },
     "execution_count": 24,
     "metadata": {},
     "output_type": "execute_result"
    }
   ],
   "source": [
    "sql = f\"\"\"\n",
    "SELECT\n",
    "Sum(case When bra_v1 > 0 Then 1 Else 0 End) AS bra_v1,\n",
    "Sum(case When for_v1_first_level > 0 Then 1 Else 0 End) AS for_v1_first_level,\n",
    "Sum(case When for_v1_second_level > 0 Then 1 Else 0 End) AS for_v1_second_level,\n",
    "Sum(case When hra_v1 > 0 Then 1 Else 0 End) AS hra_v1,\n",
    "Sum(case When hrcs_hc_v1 > 0 Then 1 Else 0 End) AS hrcs_hc_v1,\n",
    "Sum(case When hrcs_rac_v1 > 0 Then 1 Else 0 End) AS hrcs_rac_v1,\n",
    "Sum(case When icrp_cso_v1 > 0 Then 1 Else 0 End) AS icrp_cso_v1,\n",
    "Sum(case When rcdc_v1 > 0 Then 1 Else 0 End) AS rcdc_v1,\n",
    "Sum(case When sdg_v1 > 0 Then 1 Else 0 End) AS sdg_v1,\n",
    "Sum(case When uoa_v1 > 0 Then 1 Else 0 End) AS uoa_v1 \n",
    "FROM\n",
    "(\n",
    "SELECT \n",
    "    goe.id,\n",
    "    count(bra_v1.value) AS bra_v1,\n",
    "    count(for_v1_first.name) AS for_v1_first_level,\n",
    "    count(for_v1_second.name) AS for_v1_second_level,\n",
    "    count(hra_v1.value) AS hra_v1,\n",
    "    count(hrcs_hc_v1.value) AS hrcs_hc_v1,\n",
    "    count(hrcs_rac_v1.name) AS hrcs_rac_v1,\n",
    "    count(icrp_cso_v1.name) AS icrp_cso_v1,\n",
    "    count(rcdc_v1.value) AS rcdc_v1,\n",
    "    count(sdg_v1.name) AS sdg_v1,\n",
    "    count(uoa_v1.name) AS uoa_v1 \n",
    "FROM {GOE_COVID} AS goe\n",
    "LEFT JOIN\n",
    "    UNNEST(goe.categories.bra_v1.full) AS bra_v1\n",
    "LEFT JOIN \n",
    "    UNNEST(goe.categories.for_v1.first_level.full) AS for_v1_first\n",
    "LEFT JOIN \n",
    "    UNNEST(goe.categories.for_v1.second_level.full) AS for_v1_second\n",
    "LEFT JOIN \n",
    "    UNNEST(goe.categories.hra_v1.full) AS hra_v1\n",
    "LEFT JOIN \n",
    "    UNNEST(goe.categories.hrcs_hc_v1.full) AS hrcs_hc_v1\n",
    "LEFT JOIN \n",
    "    UNNEST(goe.categories.hrcs_rac_v1.full) AS hrcs_rac_v1\n",
    "LEFT JOIN \n",
    "    UNNEST(goe.categories.icrp_cso_v1.full) AS icrp_cso_v1\n",
    "LEFT JOIN \n",
    "    UNNEST(goe.categories.rcdc_v1.full) AS rcdc_v1\n",
    "LEFT JOIN \n",
    "    UNNEST(goe.categories.sdg_v1.full) AS sdg_v1\n",
    "LEFT JOIN \n",
    "    UNNEST(goe.categories.uoa_v1.full) AS uoa_v1\n",
    "GROUP BY\n",
    "    goe.id\n",
    "ORDER BY goe.id\n",
    ")\n",
    "\"\"\"\n",
    "\n",
    "q = client.query(sql)\n",
    "client.query(\n",
    "    bqcreate(sql, GOE_CATEGORY_COUNT)\n",
    ")"
   ]
  },
  {
   "cell_type": "code",
   "execution_count": 25,
   "metadata": {},
   "outputs": [
    {
     "data": {
      "text/html": [
       "<div>\n",
       "<style scoped>\n",
       "    .dataframe tbody tr th:only-of-type {\n",
       "        vertical-align: middle;\n",
       "    }\n",
       "\n",
       "    .dataframe tbody tr th {\n",
       "        vertical-align: top;\n",
       "    }\n",
       "\n",
       "    .dataframe thead th {\n",
       "        text-align: right;\n",
       "    }\n",
       "</style>\n",
       "<table border=\"1\" class=\"dataframe\">\n",
       "  <thead>\n",
       "    <tr style=\"text-align: right;\">\n",
       "      <th></th>\n",
       "      <th>bra_v1</th>\n",
       "      <th>for_v1_first_level</th>\n",
       "      <th>for_v1_second_level</th>\n",
       "      <th>hra_v1</th>\n",
       "      <th>hrcs_hc_v1</th>\n",
       "      <th>hrcs_rac_v1</th>\n",
       "      <th>icrp_cso_v1</th>\n",
       "      <th>rcdc_v1</th>\n",
       "      <th>sdg_v1</th>\n",
       "      <th>uoa_v1</th>\n",
       "    </tr>\n",
       "  </thead>\n",
       "  <tbody>\n",
       "    <tr>\n",
       "      <th>0</th>\n",
       "      <td>215</td>\n",
       "      <td>426</td>\n",
       "      <td>391</td>\n",
       "      <td>206</td>\n",
       "      <td>194</td>\n",
       "      <td>114</td>\n",
       "      <td>14</td>\n",
       "      <td>274</td>\n",
       "      <td>65</td>\n",
       "      <td>360</td>\n",
       "    </tr>\n",
       "  </tbody>\n",
       "</table>\n",
       "</div>"
      ],
      "text/plain": [
       "   bra_v1  for_v1_first_level  for_v1_second_level  hra_v1  hrcs_hc_v1  \\\n",
       "0     215                 426                  391     206         194   \n",
       "\n",
       "   hrcs_rac_v1  icrp_cso_v1  rcdc_v1  sdg_v1  uoa_v1  \n",
       "0          114           14      274      65     360  "
      ]
     },
     "execution_count": 25,
     "metadata": {},
     "output_type": "execute_result"
    }
   ],
   "source": [
    "df = q.to_dataframe()\n",
    "save(df, f\"{TABLE_FOLDER}{table_name(GOE_CATEGORY_COUNT)}.csv\")\n",
    "df"
   ]
  },
  {
   "cell_type": "markdown",
   "metadata": {},
   "source": [
    "## Collect all categories for all publications"
   ]
  },
  {
   "cell_type": "markdown",
   "metadata": {},
   "source": [
    "Table: __GOE_CATEGORIES__\n",
    "\n",
    "- SQL statement selects category values for each publication ID in their appropriate column\n",
    "- Note: The same publication can have multiple rows in the resulting table!\n",
    "- Note: We use only FOR and SDG categories, for further details see https://docs.dimensions.ai/dsl/datasource-publications.html and https://dimensions.freshdesk.com/support/solutions/articles/23000018820-what-are-fields-of-research-and-other-classification-systems-and-how-are-they-created-"
   ]
  },
  {
   "cell_type": "code",
   "execution_count": 28,
   "metadata": {},
   "outputs": [
    {
     "data": {
      "text/plain": [
       "<google.cloud.bigquery.job.query.QueryJob at 0x7fbd942a7a00>"
      ]
     },
     "execution_count": 28,
     "metadata": {},
     "output_type": "execute_result"
    }
   ],
   "source": [
    "sql = f\"\"\"\n",
    "SELECT \n",
    "    goe.id,\n",
    "    # bra_v1.value AS bra_v1,\n",
    "    for_v1_first.name AS for_v1_first_level,\n",
    "    for_v1_second.name AS for_v1_second_level,\n",
    "    # hra_v1.value AS hra_v1,\n",
    "    # hrcs_hc_v1.value AS hrcs_hc_v1,\n",
    "    # hrcs_rac_v1.name AS hrcs_rac_v1,\n",
    "    # icrp_cso_v1.name AS icrp_cso_v1,\n",
    "    # rcdc_v1.value AS rcdc_v1,\n",
    "    sdg_v1.name AS sdg_v1,\n",
    "    # uoa_v1.name AS uoa_v1 \n",
    "FROM {GOE_COVID} AS goe\n",
    "# LEFT JOIN\n",
    "#     UNNEST(goe.categories.bra_v1.full) AS bra_v1\n",
    "LEFT JOIN \n",
    "    UNNEST(goe.categories.for_v1.first_level.full) AS for_v1_first\n",
    "LEFT JOIN \n",
    "    UNNEST(goe.categories.for_v1.second_level.full) AS for_v1_second\n",
    "# LEFT JOIN \n",
    "#     UNNEST(goe.categories.hra_v1.full) AS hra_v1\n",
    "# LEFT JOIN \n",
    "#     UNNEST(goe.categories.hrcs_hc_v1.full) AS hrcs_hc_v1\n",
    "# LEFT JOIN \n",
    "#     UNNEST(goe.categories.hrcs_rac_v1.full) AS hrcs_rac_v1\n",
    "# LEFT JOIN \n",
    "#     UNNEST(goe.categories.icrp_cso_v1.full) AS icrp_cso_v1\n",
    "# LEFT JOIN \n",
    "#     UNNEST(goe.categories.rcdc_v1.full) AS rcdc_v1\n",
    "LEFT JOIN \n",
    "    UNNEST(goe.categories.sdg_v1.full) AS sdg_v1\n",
    "# LEFT JOIN \n",
    "#     UNNEST(goe.categories.uoa_v1.full) AS uoa_v1\n",
    "GROUP BY \n",
    "    goe.id,\n",
    "    # bra_v1,\n",
    "    for_v1_first_level,\n",
    "    for_v1_second_level,\n",
    "    # hra_v1,\n",
    "    # hrcs_hc_v1,\n",
    "    # hrcs_rac_v1,\n",
    "    # icrp_cso_v1,\n",
    "    # rcdc_v1,\n",
    "    sdg_v1\n",
    "    # uoa_v1 \n",
    "ORDER BY goe.id\n",
    "\"\"\"\n",
    "\n",
    "q = client.query(sql)\n",
    "client.query(\n",
    "    bqcreate(sql, GOE_CATEGORIES)\n",
    ")"
   ]
  },
  {
   "cell_type": "code",
   "execution_count": 29,
   "metadata": {},
   "outputs": [
    {
     "data": {
      "text/html": [
       "<div>\n",
       "<style scoped>\n",
       "    .dataframe tbody tr th:only-of-type {\n",
       "        vertical-align: middle;\n",
       "    }\n",
       "\n",
       "    .dataframe tbody tr th {\n",
       "        vertical-align: top;\n",
       "    }\n",
       "\n",
       "    .dataframe thead th {\n",
       "        text-align: right;\n",
       "    }\n",
       "</style>\n",
       "<table border=\"1\" class=\"dataframe\">\n",
       "  <thead>\n",
       "    <tr style=\"text-align: right;\">\n",
       "      <th></th>\n",
       "      <th>id</th>\n",
       "      <th>for_v1_first_level</th>\n",
       "      <th>for_v1_second_level</th>\n",
       "      <th>sdg_v1</th>\n",
       "    </tr>\n",
       "  </thead>\n",
       "  <tbody>\n",
       "    <tr>\n",
       "      <th>0</th>\n",
       "      <td>pub.1124079136</td>\n",
       "      <td>Chemical Sciences</td>\n",
       "      <td>Medicinal and Biomolecular Chemistry</td>\n",
       "      <td>None</td>\n",
       "    </tr>\n",
       "    <tr>\n",
       "      <th>1</th>\n",
       "      <td>pub.1124079136</td>\n",
       "      <td>Chemical Sciences</td>\n",
       "      <td>Biochemistry and Cell Biology</td>\n",
       "      <td>None</td>\n",
       "    </tr>\n",
       "    <tr>\n",
       "      <th>2</th>\n",
       "      <td>pub.1124079136</td>\n",
       "      <td>Biological Sciences</td>\n",
       "      <td>Medicinal and Biomolecular Chemistry</td>\n",
       "      <td>None</td>\n",
       "    </tr>\n",
       "    <tr>\n",
       "      <th>3</th>\n",
       "      <td>pub.1124079136</td>\n",
       "      <td>Biological Sciences</td>\n",
       "      <td>Biochemistry and Cell Biology</td>\n",
       "      <td>None</td>\n",
       "    </tr>\n",
       "    <tr>\n",
       "      <th>4</th>\n",
       "      <td>pub.1124214819</td>\n",
       "      <td>Biological Sciences</td>\n",
       "      <td>Microbiology</td>\n",
       "      <td>None</td>\n",
       "    </tr>\n",
       "  </tbody>\n",
       "</table>\n",
       "</div>"
      ],
      "text/plain": [
       "               id   for_v1_first_level                   for_v1_second_level  \\\n",
       "0  pub.1124079136    Chemical Sciences  Medicinal and Biomolecular Chemistry   \n",
       "1  pub.1124079136    Chemical Sciences         Biochemistry and Cell Biology   \n",
       "2  pub.1124079136  Biological Sciences  Medicinal and Biomolecular Chemistry   \n",
       "3  pub.1124079136  Biological Sciences         Biochemistry and Cell Biology   \n",
       "4  pub.1124214819  Biological Sciences                          Microbiology   \n",
       "\n",
       "  sdg_v1  \n",
       "0   None  \n",
       "1   None  \n",
       "2   None  \n",
       "3   None  \n",
       "4   None  "
      ]
     },
     "execution_count": 29,
     "metadata": {},
     "output_type": "execute_result"
    }
   ],
   "source": [
    "df = q.to_dataframe()\n",
    "save(df, f\"{TABLE_FOLDER}{table_name(GOE_CATEGORIES)}.csv\")\n",
    "df.head(5)"
   ]
  },
  {
   "cell_type": "markdown",
   "metadata": {},
   "source": [
    "## Create table with category values assigned to each single publication"
   ]
  },
  {
   "cell_type": "markdown",
   "metadata": {},
   "source": [
    "Table: __GOE_CATEGORIES_PUBLICATIONS__\n",
    "\n",
    "- SQL statements combines values from all categories to a single column"
   ]
  },
  {
   "cell_type": "code",
   "execution_count": 32,
   "metadata": {},
   "outputs": [
    {
     "data": {
      "text/plain": [
       "<google.cloud.bigquery.job.query.QueryJob at 0x7fbd6166e5b0>"
      ]
     },
     "execution_count": 32,
     "metadata": {},
     "output_type": "execute_result"
    }
   ],
   "source": [
    "sql = f\"\"\"\n",
    "SELECT\n",
    "    DISTINCT *\n",
    "FROM (\n",
    "    # (SELECT DISTINCT id, bra_v1 AS category FROM {GOE_CATEGORIES}\n",
    "    # WHERE bra_v1 IS NOT NULL)\n",
    "    # UNION ALL\n",
    "    (SELECT DISTINCT id, for_v1_first_level AS category FROM {GOE_CATEGORIES}\n",
    "    WHERE for_v1_first_level IS NOT NULL)\n",
    "    UNION ALL\n",
    "    (SELECT DISTINCT id, for_v1_second_level AS category FROM {GOE_CATEGORIES}\n",
    "    WHERE for_v1_second_level IS NOT NULL)\n",
    "    UNION ALL\n",
    "    # (SELECT DISTINCT id, hra_v1 AS category FROM {GOE_CATEGORIES}\n",
    "    # WHERE hra_v1 IS NOT NULL)\n",
    "    # UNION ALL\n",
    "    # (SELECT DISTINCT id, hrcs_hc_v1 AS category FROM {GOE_CATEGORIES}\n",
    "    # WHERE hrcs_hc_v1 IS NOT NULL)\n",
    "    # UNION ALL\n",
    "    # (SELECT DISTINCT id, hrcs_rac_v1 AS category FROM {GOE_CATEGORIES}\n",
    "    # WHERE hrcs_rac_v1 IS NOT NULL)\n",
    "    # UNION ALL\n",
    "    # (SELECT DISTINCT id, icrp_cso_v1 AS category FROM {GOE_CATEGORIES}\n",
    "    # WHERE icrp_cso_v1 IS NOT NULL)\n",
    "    # UNION ALL\n",
    "    # (SELECT DISTINCT id, rcdc_v1 AS category FROM {GOE_CATEGORIES}\n",
    "    # WHERE rcdc_v1 IS NOT NULL)\n",
    "    # UNION ALL\n",
    "    (SELECT DISTINCT id, sdg_v1 AS category FROM {GOE_CATEGORIES}\n",
    "    WHERE sdg_v1 IS NOT NULL)\n",
    "    # UNION ALL\n",
    "    # (SELECT DISTINCT id, uoa_v1 AS category FROM {GOE_CATEGORIES}\n",
    "    # WHERE uoa_v1 IS NOT NULL)\n",
    "    ORDER BY id\n",
    ")\n",
    "ORDER BY id\n",
    "\"\"\"\n",
    "\n",
    "q = client.query(sql)\n",
    "client.query(\n",
    "    bqcreate(sql, GOE_CATEGORIES_PUBLICATIONS)\n",
    ")"
   ]
  },
  {
   "cell_type": "code",
   "execution_count": 33,
   "metadata": {},
   "outputs": [
    {
     "data": {
      "text/html": [
       "<div>\n",
       "<style scoped>\n",
       "    .dataframe tbody tr th:only-of-type {\n",
       "        vertical-align: middle;\n",
       "    }\n",
       "\n",
       "    .dataframe tbody tr th {\n",
       "        vertical-align: top;\n",
       "    }\n",
       "\n",
       "    .dataframe thead th {\n",
       "        text-align: right;\n",
       "    }\n",
       "</style>\n",
       "<table border=\"1\" class=\"dataframe\">\n",
       "  <thead>\n",
       "    <tr style=\"text-align: right;\">\n",
       "      <th></th>\n",
       "      <th>id</th>\n",
       "      <th>category</th>\n",
       "    </tr>\n",
       "  </thead>\n",
       "  <tbody>\n",
       "    <tr>\n",
       "      <th>0</th>\n",
       "      <td>pub.1124079136</td>\n",
       "      <td>Medicinal and Biomolecular Chemistry</td>\n",
       "    </tr>\n",
       "    <tr>\n",
       "      <th>1</th>\n",
       "      <td>pub.1124079136</td>\n",
       "      <td>Biochemistry and Cell Biology</td>\n",
       "    </tr>\n",
       "    <tr>\n",
       "      <th>2</th>\n",
       "      <td>pub.1124079136</td>\n",
       "      <td>Chemical Sciences</td>\n",
       "    </tr>\n",
       "    <tr>\n",
       "      <th>3</th>\n",
       "      <td>pub.1124079136</td>\n",
       "      <td>Biological Sciences</td>\n",
       "    </tr>\n",
       "    <tr>\n",
       "      <th>4</th>\n",
       "      <td>pub.1124214819</td>\n",
       "      <td>Microbiology</td>\n",
       "    </tr>\n",
       "  </tbody>\n",
       "</table>\n",
       "</div>"
      ],
      "text/plain": [
       "               id                              category\n",
       "0  pub.1124079136  Medicinal and Biomolecular Chemistry\n",
       "1  pub.1124079136         Biochemistry and Cell Biology\n",
       "2  pub.1124079136                     Chemical Sciences\n",
       "3  pub.1124079136                   Biological Sciences\n",
       "4  pub.1124214819                          Microbiology"
      ]
     },
     "execution_count": 33,
     "metadata": {},
     "output_type": "execute_result"
    }
   ],
   "source": [
    "df = q.to_dataframe()\n",
    "save(df, f\"{TABLE_FOLDER}{table_name(GOE_CATEGORIES_PUBLICATIONS)}.csv\")\n",
    "df.head(5)"
   ]
  },
  {
   "cell_type": "code",
   "execution_count": 34,
   "metadata": {},
   "outputs": [
    {
     "data": {
      "text/plain": [
       "[('Medical and Health Sciences', 291),\n",
       " ('Clinical Sciences', 94),\n",
       " ('Public Health and Health Services', 69),\n",
       " ('Biological Sciences', 55),\n",
       " ('Immunology', 53),\n",
       " ('Medical Microbiology', 44),\n",
       " ('Good Health and Well Being', 43),\n",
       " ('Biochemistry and Cell Biology', 33),\n",
       " ('Cardiorespiratory Medicine and Haematology', 22),\n",
       " ('Economics', 22)]"
      ]
     },
     "execution_count": 34,
     "metadata": {},
     "output_type": "execute_result"
    }
   ],
   "source": [
    "# look into number of papers for each category\n",
    "Counter(df[\"category\"].values).most_common()[:10]"
   ]
  },
  {
   "cell_type": "markdown",
   "metadata": {},
   "source": [
    "## Create table with each category assigned to each affiliation for each paper"
   ]
  },
  {
   "cell_type": "markdown",
   "metadata": {},
   "source": [
    "Table: __GOE_CATEGORIES_AFFILIATIONS__\n",
    "\n",
    "- SQL statement selects publication ID, main affiliation of its authors and all category values from this publication for each of its affiliations\n",
    "- We then can get a table of affiliations and the categories of papers their are involved in"
   ]
  },
  {
   "cell_type": "code",
   "execution_count": 35,
   "metadata": {},
   "outputs": [
    {
     "data": {
      "text/plain": [
       "<google.cloud.bigquery.job.query.QueryJob at 0x7fbd61668a00>"
      ]
     },
     "execution_count": 35,
     "metadata": {},
     "output_type": "execute_result"
    }
   ],
   "source": [
    "sql = f\"\"\"\n",
    "SELECT DISTINCT\n",
    "    cat.id,\n",
    "    aff.main_affiliation,\n",
    "    cat.category,\n",
    "FROM {GOE_AUTHORS} as goe\n",
    "JOIN\n",
    "    UNNEST(goe.authors) AS a\n",
    "JOIN {GOE_CATEGORIES_PUBLICATIONS} as cat\n",
    "    ON goe.id = cat.id\n",
    "JOIN {GOE_AUTHORS_FULL_NAMES} AS fn\n",
    "    ON (a.first_name = fn.first_name AND a.last_name = fn.last_name)\n",
    "JOIN {GOE_AUTHORS_MAIN_AFFILIATION} as aff\n",
    "    ON (fn.full_name = aff.full_name)\n",
    "WHERE\n",
    "    aff.main_affiliation NOT IN  {GOE_CAMPUS_IDS}\n",
    "ORDER BY cat.id\n",
    "\"\"\"\n",
    "\n",
    "q = client.query(sql)\n",
    "client.query(\n",
    "    bqcreate(sql, GOE_CATEGORIES_AFFILIATIONS)\n",
    ")"
   ]
  },
  {
   "cell_type": "code",
   "execution_count": 36,
   "metadata": {},
   "outputs": [
    {
     "data": {
      "text/html": [
       "<div>\n",
       "<style scoped>\n",
       "    .dataframe tbody tr th:only-of-type {\n",
       "        vertical-align: middle;\n",
       "    }\n",
       "\n",
       "    .dataframe tbody tr th {\n",
       "        vertical-align: top;\n",
       "    }\n",
       "\n",
       "    .dataframe thead th {\n",
       "        text-align: right;\n",
       "    }\n",
       "</style>\n",
       "<table border=\"1\" class=\"dataframe\">\n",
       "  <thead>\n",
       "    <tr style=\"text-align: right;\">\n",
       "      <th></th>\n",
       "      <th>id</th>\n",
       "      <th>main_affiliation</th>\n",
       "      <th>category</th>\n",
       "    </tr>\n",
       "  </thead>\n",
       "  <tbody>\n",
       "    <tr>\n",
       "      <th>0</th>\n",
       "      <td>pub.1124079136</td>\n",
       "      <td>grid.7776.1</td>\n",
       "      <td>Medicinal and Biomolecular Chemistry</td>\n",
       "    </tr>\n",
       "    <tr>\n",
       "      <th>1</th>\n",
       "      <td>pub.1124079136</td>\n",
       "      <td>grid.7776.1</td>\n",
       "      <td>Biochemistry and Cell Biology</td>\n",
       "    </tr>\n",
       "    <tr>\n",
       "      <th>2</th>\n",
       "      <td>pub.1124079136</td>\n",
       "      <td>grid.7776.1</td>\n",
       "      <td>Chemical Sciences</td>\n",
       "    </tr>\n",
       "    <tr>\n",
       "      <th>3</th>\n",
       "      <td>pub.1124079136</td>\n",
       "      <td>grid.7776.1</td>\n",
       "      <td>Biological Sciences</td>\n",
       "    </tr>\n",
       "    <tr>\n",
       "      <th>4</th>\n",
       "      <td>pub.1124079136</td>\n",
       "      <td>grid.418376.f</td>\n",
       "      <td>Medicinal and Biomolecular Chemistry</td>\n",
       "    </tr>\n",
       "  </tbody>\n",
       "</table>\n",
       "</div>"
      ],
      "text/plain": [
       "               id main_affiliation                              category\n",
       "0  pub.1124079136      grid.7776.1  Medicinal and Biomolecular Chemistry\n",
       "1  pub.1124079136      grid.7776.1         Biochemistry and Cell Biology\n",
       "2  pub.1124079136      grid.7776.1                     Chemical Sciences\n",
       "3  pub.1124079136      grid.7776.1                   Biological Sciences\n",
       "4  pub.1124079136    grid.418376.f  Medicinal and Biomolecular Chemistry"
      ]
     },
     "execution_count": 36,
     "metadata": {},
     "output_type": "execute_result"
    }
   ],
   "source": [
    "df = q.to_dataframe()\n",
    "save(df, f\"{TABLE_FOLDER}{table_name(GOE_CATEGORIES_AFFILIATIONS)}.csv\")\n",
    "df.head(5)"
   ]
  },
  {
   "cell_type": "markdown",
   "metadata": {},
   "source": [
    "## Create table with category count for each category for each affiliation"
   ]
  },
  {
   "cell_type": "markdown",
   "metadata": {},
   "source": [
    "Table: __GOE_CATEGORIES_AFFILIATIONS_COUNT__\n",
    "\n",
    "- SQL statement groups affiliations and categories by counting occurrence of a category value for each affiliation"
   ]
  },
  {
   "cell_type": "code",
   "execution_count": 37,
   "metadata": {},
   "outputs": [
    {
     "data": {
      "text/plain": [
       "<google.cloud.bigquery.job.query.QueryJob at 0x7fbd60b13ca0>"
      ]
     },
     "execution_count": 37,
     "metadata": {},
     "output_type": "execute_result"
    }
   ],
   "source": [
    "sql = f\"\"\"\n",
    "SELECT\n",
    "    fosaff.main_affiliation,\n",
    "    fosaff.category,\n",
    "    count(fosaff.category) as category_count\n",
    "FROM {GOE_CATEGORIES_AFFILIATIONS} as fosaff\n",
    "GROUP BY\n",
    "    fosaff.main_affiliation,\n",
    "    fosaff.category\n",
    "ORDER BY category_count DESC\n",
    "\"\"\"\n",
    "\n",
    "q = client.query(sql)\n",
    "client.query(\n",
    "    bqcreate(sql, GOE_CATEGORIES_AFFILIATIONS_COUNT)\n",
    ")"
   ]
  },
  {
   "cell_type": "code",
   "execution_count": 38,
   "metadata": {},
   "outputs": [
    {
     "data": {
      "text/html": [
       "<div>\n",
       "<style scoped>\n",
       "    .dataframe tbody tr th:only-of-type {\n",
       "        vertical-align: middle;\n",
       "    }\n",
       "\n",
       "    .dataframe tbody tr th {\n",
       "        vertical-align: top;\n",
       "    }\n",
       "\n",
       "    .dataframe thead th {\n",
       "        text-align: right;\n",
       "    }\n",
       "</style>\n",
       "<table border=\"1\" class=\"dataframe\">\n",
       "  <thead>\n",
       "    <tr style=\"text-align: right;\">\n",
       "      <th></th>\n",
       "      <th>main_affiliation</th>\n",
       "      <th>category</th>\n",
       "      <th>category_count</th>\n",
       "    </tr>\n",
       "  </thead>\n",
       "  <tbody>\n",
       "    <tr>\n",
       "      <th>0</th>\n",
       "      <td>grid.6363.0</td>\n",
       "      <td>Medical and Health Sciences</td>\n",
       "      <td>30</td>\n",
       "    </tr>\n",
       "    <tr>\n",
       "      <th>1</th>\n",
       "      <td>grid.10423.34</td>\n",
       "      <td>Medical and Health Sciences</td>\n",
       "      <td>24</td>\n",
       "    </tr>\n",
       "    <tr>\n",
       "      <th>2</th>\n",
       "      <td>grid.5330.5</td>\n",
       "      <td>Medical and Health Sciences</td>\n",
       "      <td>18</td>\n",
       "    </tr>\n",
       "    <tr>\n",
       "      <th>3</th>\n",
       "      <td>grid.4708.b</td>\n",
       "      <td>Medical and Health Sciences</td>\n",
       "      <td>14</td>\n",
       "    </tr>\n",
       "    <tr>\n",
       "      <th>4</th>\n",
       "      <td>grid.17635.36</td>\n",
       "      <td>Medical and Health Sciences</td>\n",
       "      <td>14</td>\n",
       "    </tr>\n",
       "  </tbody>\n",
       "</table>\n",
       "</div>"
      ],
      "text/plain": [
       "  main_affiliation                     category  category_count\n",
       "0      grid.6363.0  Medical and Health Sciences              30\n",
       "1    grid.10423.34  Medical and Health Sciences              24\n",
       "2      grid.5330.5  Medical and Health Sciences              18\n",
       "3      grid.4708.b  Medical and Health Sciences              14\n",
       "4    grid.17635.36  Medical and Health Sciences              14"
      ]
     },
     "execution_count": 38,
     "metadata": {},
     "output_type": "execute_result"
    }
   ],
   "source": [
    "df = q.to_dataframe()\n",
    "save(df, f\"{TABLE_FOLDER}{table_name(GOE_CATEGORIES_AFFILIATIONS_COUNT)}.csv\")\n",
    "df.head(5)"
   ]
  },
  {
   "cell_type": "code",
   "execution_count": 39,
   "metadata": {},
   "outputs": [
    {
     "data": {
      "text/plain": [
       "[('Medical and Health Sciences', 646),\n",
       " ('Clinical Sciences', 268),\n",
       " ('Public Health and Health Services', 234),\n",
       " ('Biological Sciences', 174),\n",
       " ('Good Health and Well Being', 164),\n",
       " ('Immunology', 146),\n",
       " ('Cardiorespiratory Medicine and Haematology', 115),\n",
       " ('Medical Microbiology', 98),\n",
       " ('Biochemistry and Cell Biology', 97),\n",
       " ('Neurosciences', 66)]"
      ]
     },
     "execution_count": 39,
     "metadata": {},
     "output_type": "execute_result"
    }
   ],
   "source": [
    "# look into number of institutions for each category\n",
    "Counter(df[\"category\"].values).most_common()[:10]"
   ]
  }
 ],
 "metadata": {
  "kernelspec": {
   "display_name": "Python 3",
   "language": "python",
   "name": "python3"
  },
  "language_info": {
   "codemirror_mode": {
    "name": "ipython",
    "version": 3
   },
   "file_extension": ".py",
   "mimetype": "text/x-python",
   "name": "python",
   "nbconvert_exporter": "python",
   "pygments_lexer": "ipython3",
   "version": "3.8.10"
  }
 },
 "nbformat": 4,
 "nbformat_minor": 4
}
