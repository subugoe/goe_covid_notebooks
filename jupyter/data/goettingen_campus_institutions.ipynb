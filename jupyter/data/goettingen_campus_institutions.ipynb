{
 "cells": [
  {
   "cell_type": "markdown",
   "metadata": {},
   "source": [
    "# Göttingen Campus Institutions"
   ]
  },
  {
   "cell_type": "markdown",
   "metadata": {},
   "source": [
    "This notebook creates a list of GRID IDs for institutions from the Göttingen Campus.\n",
    "\n",
    "Author: Andreas Lüschow\n",
    "\n",
    "2021/07/08"
   ]
  },
  {
   "cell_type": "markdown",
   "metadata": {},
   "source": [
    "-----"
   ]
  },
  {
   "cell_type": "markdown",
   "metadata": {},
   "source": [
    "## Imports"
   ]
  },
  {
   "cell_type": "code",
   "execution_count": 1,
   "metadata": {},
   "outputs": [
    {
     "name": "stdout",
     "output_type": "stream",
     "text": [
      "\n",
      "    [Errno 2] No such file or directory: '../../output/goe_campus_grid_ids.txt'\n",
      "    Consider creating a file with GRID IDs from the Göttingen Campus using the Jupyter notebook './jupyter/data/goettingen_campus_institutions' first!\n",
      "    (You may ignore this error if you do not need to import GRID IDs inside the current notebook.)\n",
      "    \n",
      "env: GOOGLE_APPLICATION_CREDENTIALS=../../../bigquery_credentials.json\n"
     ]
    }
   ],
   "source": [
    "# run imports\n",
    "%run ../imports.ipynb\n",
    "\n",
    "# import constants from constants notebook\n",
    "%run ../constants.ipynb\n",
    "\n",
    "# import methods from utils notebook\n",
    "%run ../utils.ipynb"
   ]
  },
  {
   "cell_type": "markdown",
   "metadata": {},
   "source": [
    "## Setting up the Google BigQuery Client"
   ]
  },
  {
   "cell_type": "code",
   "execution_count": 2,
   "metadata": {},
   "outputs": [],
   "source": [
    "client = get_bq_client()"
   ]
  },
  {
   "cell_type": "markdown",
   "metadata": {},
   "source": [
    "-----"
   ]
  },
  {
   "cell_type": "markdown",
   "metadata": {},
   "source": [
    "## Inspect the data\n",
    "\n",
    "- Total number of publications in Dimensions data\n",
    "- Structure of Dimensions grid table"
   ]
  },
  {
   "cell_type": "code",
   "execution_count": 3,
   "metadata": {},
   "outputs": [
    {
     "data": {
      "text/html": [
       "<div>\n",
       "<style scoped>\n",
       "    .dataframe tbody tr th:only-of-type {\n",
       "        vertical-align: middle;\n",
       "    }\n",
       "\n",
       "    .dataframe tbody tr th {\n",
       "        vertical-align: top;\n",
       "    }\n",
       "\n",
       "    .dataframe thead th {\n",
       "        text-align: right;\n",
       "    }\n",
       "</style>\n",
       "<table border=\"1\" class=\"dataframe\">\n",
       "  <thead>\n",
       "    <tr style=\"text-align: right;\">\n",
       "      <th></th>\n",
       "      <th>nr_of_publications</th>\n",
       "    </tr>\n",
       "  </thead>\n",
       "  <tbody>\n",
       "    <tr>\n",
       "      <th>0</th>\n",
       "      <td>512769</td>\n",
       "    </tr>\n",
       "  </tbody>\n",
       "</table>\n",
       "</div>"
      ],
      "text/plain": [
       "   nr_of_publications\n",
       "0              512769"
      ]
     },
     "execution_count": 3,
     "metadata": {},
     "output_type": "execute_result"
    }
   ],
   "source": [
    "# get total number of publications in Dimensions data\n",
    "sql = f\"\"\"\n",
    "SELECT\n",
    "    count(*) as nr_of_publications\n",
    "FROM {DS_PUBLICATIONS}\n",
    "\"\"\"\n",
    "\n",
    "q = client.query(sql)\n",
    "q.to_dataframe()"
   ]
  },
  {
   "cell_type": "code",
   "execution_count": 4,
   "metadata": {},
   "outputs": [
    {
     "data": {
      "text/html": [
       "<div>\n",
       "<style scoped>\n",
       "    .dataframe tbody tr th:only-of-type {\n",
       "        vertical-align: middle;\n",
       "    }\n",
       "\n",
       "    .dataframe tbody tr th {\n",
       "        vertical-align: top;\n",
       "    }\n",
       "\n",
       "    .dataframe thead th {\n",
       "        text-align: right;\n",
       "    }\n",
       "</style>\n",
       "<table border=\"1\" class=\"dataframe\">\n",
       "  <thead>\n",
       "    <tr style=\"text-align: right;\">\n",
       "      <th></th>\n",
       "      <th>id</th>\n",
       "      <th>name</th>\n",
       "    </tr>\n",
       "  </thead>\n",
       "  <tbody>\n",
       "    <tr>\n",
       "      <th>0</th>\n",
       "      <td>grid.437499.4</td>\n",
       "      <td>Gpack (France)</td>\n",
       "    </tr>\n",
       "    <tr>\n",
       "      <th>1</th>\n",
       "      <td>grid.488233.6</td>\n",
       "      <td>Bristol-Myers Squibb (Switzerland)</td>\n",
       "    </tr>\n",
       "    <tr>\n",
       "      <th>2</th>\n",
       "      <td>grid.447587.d</td>\n",
       "      <td>Virgin Islands Humanities Council</td>\n",
       "    </tr>\n",
       "    <tr>\n",
       "      <th>3</th>\n",
       "      <td>grid.432141.1</td>\n",
       "      <td>Biotec (United Kingdom)</td>\n",
       "    </tr>\n",
       "    <tr>\n",
       "      <th>4</th>\n",
       "      <td>grid.429701.9</td>\n",
       "      <td>Wellness Pointe</td>\n",
       "    </tr>\n",
       "    <tr>\n",
       "      <th>5</th>\n",
       "      <td>grid.430069.8</td>\n",
       "      <td>OncoDetect (United States)</td>\n",
       "    </tr>\n",
       "    <tr>\n",
       "      <th>6</th>\n",
       "      <td>grid.435281.9</td>\n",
       "      <td>Helping Others in a Positive Environment</td>\n",
       "    </tr>\n",
       "    <tr>\n",
       "      <th>7</th>\n",
       "      <td>grid.425513.4</td>\n",
       "      <td>Bodycote (United Kingdom)</td>\n",
       "    </tr>\n",
       "    <tr>\n",
       "      <th>8</th>\n",
       "      <td>grid.507886.4</td>\n",
       "      <td>Ontario Turtle Conservation Centre</td>\n",
       "    </tr>\n",
       "    <tr>\n",
       "      <th>9</th>\n",
       "      <td>grid.410734.5</td>\n",
       "      <td>Jiangsu Provincial Center for Disease Control ...</td>\n",
       "    </tr>\n",
       "  </tbody>\n",
       "</table>\n",
       "</div>"
      ],
      "text/plain": [
       "              id                                               name\n",
       "0  grid.437499.4                                     Gpack (France)\n",
       "1  grid.488233.6                 Bristol-Myers Squibb (Switzerland)\n",
       "2  grid.447587.d                  Virgin Islands Humanities Council\n",
       "3  grid.432141.1                            Biotec (United Kingdom)\n",
       "4  grid.429701.9                                    Wellness Pointe\n",
       "5  grid.430069.8                         OncoDetect (United States)\n",
       "6  grid.435281.9           Helping Others in a Positive Environment\n",
       "7  grid.425513.4                          Bodycote (United Kingdom)\n",
       "8  grid.507886.4                 Ontario Turtle Conservation Centre\n",
       "9  grid.410734.5  Jiangsu Provincial Center for Disease Control ..."
      ]
     },
     "execution_count": 4,
     "metadata": {},
     "output_type": "execute_result"
    }
   ],
   "source": [
    "# look into the grid table\n",
    "sql = f\"\"\"\n",
    "SELECT\n",
    "    id,\n",
    "    name\n",
    "FROM {DS_GRID}\n",
    "\"\"\"\n",
    "\n",
    "q = client.query(sql)\n",
    "q.to_dataframe().head(10)"
   ]
  },
  {
   "cell_type": "markdown",
   "metadata": {},
   "source": [
    "## Get Göttingen Campus Institutions\n",
    "\n",
    "- Find candidates using regular expressions.\n",
    "- Check the resulting list manually.\n",
    "- Create a final list of Göttingen Campus GRID IDs.\n",
    "- Write this list to a file for further use in other notebooks."
   ]
  },
  {
   "cell_type": "code",
   "execution_count": 5,
   "metadata": {},
   "outputs": [],
   "source": [
    "# find possible institutions from the Göttingen Campus using regular expressions\n",
    "sql = f\"\"\"\n",
    "SELECT\n",
    "    id,\n",
    "    name \n",
    "FROM {DS_GRID}\n",
    "WHERE\n",
    "    REGEXP_CONTAINS(name, r\"[gG]ö?(oe)?ttingen\")\n",
    "    OR REGEXP_CONTAINS(name, r\"Max[\\s-]?Planck\")\n",
    "    OR REGEXP_CONTAINS(name, r\"Primaten\")\n",
    "    OR REGEXP_CONTAINS(name, r\"MPI\")\n",
    "    OR REGEXP_CONTAINS(name, r\"DLR\")\n",
    "    OR REGEXP_CONTAINS(name, r\"Deutsches Zentrum\")\n",
    "    OR REGEXP_CONTAINS(name, r\"Primate\")\n",
    "    OR REGEXP_CONTAINS(name, r\"German Aerospace\")\n",
    "\"\"\"\n",
    "\n",
    "q = client.query(sql)\n",
    "df = q.to_dataframe()"
   ]
  },
  {
   "cell_type": "code",
   "execution_count": 6,
   "metadata": {},
   "outputs": [
    {
     "data": {
      "text/html": [
       "<div>\n",
       "<style scoped>\n",
       "    .dataframe tbody tr th:only-of-type {\n",
       "        vertical-align: middle;\n",
       "    }\n",
       "\n",
       "    .dataframe tbody tr th {\n",
       "        vertical-align: top;\n",
       "    }\n",
       "\n",
       "    .dataframe thead th {\n",
       "        text-align: right;\n",
       "    }\n",
       "</style>\n",
       "<table border=\"1\" class=\"dataframe\">\n",
       "  <thead>\n",
       "    <tr style=\"text-align: right;\">\n",
       "      <th></th>\n",
       "      <th>id</th>\n",
       "      <th>name</th>\n",
       "    </tr>\n",
       "  </thead>\n",
       "  <tbody>\n",
       "    <tr>\n",
       "      <th>0</th>\n",
       "      <td>grid.507417.0</td>\n",
       "      <td>Biomedicine Research Institute of Buenos Aires...</td>\n",
       "    </tr>\n",
       "    <tr>\n",
       "      <th>1</th>\n",
       "      <td>grid.494632.e</td>\n",
       "      <td>Max Planck Institutes Library</td>\n",
       "    </tr>\n",
       "    <tr>\n",
       "      <th>2</th>\n",
       "      <td>grid.419552.e</td>\n",
       "      <td>Max Planck Institute for Solid State Research</td>\n",
       "    </tr>\n",
       "    <tr>\n",
       "      <th>3</th>\n",
       "      <td>grid.419534.e</td>\n",
       "      <td>Max Planck Institute for Intelligent Systems</td>\n",
       "    </tr>\n",
       "    <tr>\n",
       "      <th>4</th>\n",
       "      <td>grid.429508.2</td>\n",
       "      <td>Max Planck Institute for Astronomy</td>\n",
       "    </tr>\n",
       "    <tr>\n",
       "      <th>...</th>\n",
       "      <td>...</td>\n",
       "      <td>...</td>\n",
       "    </tr>\n",
       "    <tr>\n",
       "      <th>118</th>\n",
       "      <td>grid.421937.a</td>\n",
       "      <td>MPI Research (United States)</td>\n",
       "    </tr>\n",
       "    <tr>\n",
       "      <th>119</th>\n",
       "      <td>grid.410436.4</td>\n",
       "      <td>Oregon National Primate Research Center</td>\n",
       "    </tr>\n",
       "    <tr>\n",
       "      <th>120</th>\n",
       "      <td>grid.453465.5</td>\n",
       "      <td>Primate Conservation</td>\n",
       "    </tr>\n",
       "    <tr>\n",
       "      <th>121</th>\n",
       "      <td>grid.507517.1</td>\n",
       "      <td>Max Planck-Bristol Centre for Minimal Biology</td>\n",
       "    </tr>\n",
       "    <tr>\n",
       "      <th>122</th>\n",
       "      <td>grid.484575.f</td>\n",
       "      <td>Primate Society of Great Britain</td>\n",
       "    </tr>\n",
       "  </tbody>\n",
       "</table>\n",
       "<p>123 rows × 2 columns</p>\n",
       "</div>"
      ],
      "text/plain": [
       "                id                                               name\n",
       "0    grid.507417.0  Biomedicine Research Institute of Buenos Aires...\n",
       "1    grid.494632.e                      Max Planck Institutes Library\n",
       "2    grid.419552.e      Max Planck Institute for Solid State Research\n",
       "3    grid.419534.e       Max Planck Institute for Intelligent Systems\n",
       "4    grid.429508.2                 Max Planck Institute for Astronomy\n",
       "..             ...                                                ...\n",
       "118  grid.421937.a                       MPI Research (United States)\n",
       "119  grid.410436.4            Oregon National Primate Research Center\n",
       "120  grid.453465.5                               Primate Conservation\n",
       "121  grid.507517.1      Max Planck-Bristol Centre for Minimal Biology\n",
       "122  grid.484575.f                   Primate Society of Great Britain\n",
       "\n",
       "[123 rows x 2 columns]"
      ]
     },
     "execution_count": 6,
     "metadata": {},
     "output_type": "execute_result"
    }
   ],
   "source": [
    "save(df, f\"{OUTPUT_FOLDER}possible_goe_campus_institutions.csv\")\n",
    "df"
   ]
  },
  {
   "cell_type": "code",
   "execution_count": 7,
   "metadata": {},
   "outputs": [
    {
     "data": {
      "text/plain": [
       "('grid.418140.8',\n",
       " 'grid.418215.b',\n",
       " 'grid.411984.1',\n",
       " 'grid.7450.6',\n",
       " 'grid.419514.c',\n",
       " 'grid.419522.9')"
      ]
     },
     "execution_count": 7,
     "metadata": {},
     "output_type": "execute_result"
    }
   ],
   "source": [
    "# manually filter out member institutions of the Göttingen Campus\n",
    "# (see https://goettingen-campus.de/de/ueber-uns/translate-to-deutsch-members for a list of members)\n",
    "members = [\"University of Göttingen\",\n",
    "           \"Universitätsmedizin Göttingen\",\n",
    "           \"Max Planck Institute for Biophysical Chemistry\",\n",
    "           \"Max Planck Institute for Dynamics and Self-Organization\",\n",
    "           \"Max Planck Institute of Experimental Medicine\",\n",
    "           \"German Primate Center\",\n",
    "           # the following institutions are ignored\n",
    "           # \"Max Planck Institute for Solar System Research\",\n",
    "           # \"Max Planck Institute for the Study of Religious and Ethnic Diversity\",\n",
    "           # \"Göttingen Academy of Sciences and Humanities\",\n",
    "           # \"German Aerospace Center\"\n",
    "        ]\n",
    "goe_campus = [\n",
    "    (row[\"id\"], row[\"name\"]) for index, row in df.iterrows() if row[\"name\"] in members\n",
    "]\n",
    "grid_ids, _ = zip(*goe_campus)\n",
    "grid_ids"
   ]
  },
  {
   "cell_type": "code",
   "execution_count": 8,
   "metadata": {},
   "outputs": [],
   "source": [
    "# write GRID IDs to file\n",
    "save_grid_ids(grid_ids)"
   ]
  }
 ],
 "metadata": {
  "kernelspec": {
   "display_name": "Python 3",
   "language": "python",
   "name": "python3"
  },
  "language_info": {
   "codemirror_mode": {
    "name": "ipython",
    "version": 3
   },
   "file_extension": ".py",
   "mimetype": "text/x-python",
   "name": "python",
   "nbconvert_exporter": "python",
   "pygments_lexer": "ipython3",
   "version": "3.8.10"
  }
 },
 "nbformat": 4,
 "nbformat_minor": 4
}
